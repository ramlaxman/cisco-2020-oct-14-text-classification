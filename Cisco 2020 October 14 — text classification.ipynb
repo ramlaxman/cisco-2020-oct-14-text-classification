{
 "cells": [
  {
   "cell_type": "code",
   "execution_count": 1,
   "metadata": {},
   "outputs": [],
   "source": [
    "# text classification\n",
    "\n",
    "# let's make predictions!\n",
    "\n",
    "\n",
    "# End goal:\n",
    "\n",
    "# model.predict(my_text)  # it'll tell us the classification of that text"
   ]
  },
  {
   "cell_type": "code",
   "execution_count": 2,
   "metadata": {},
   "outputs": [],
   "source": [
    "# two basic types of machine learning:\n",
    "# - supervised learning\n",
    "#     teaching the computer with examples\n",
    "#     asking it to make predictions based on examples\n",
    "\n",
    "#     - classification\n",
    "#     - regression\n",
    "\n",
    "# - unsupervised learning"
   ]
  },
  {
   "cell_type": "code",
   "execution_count": 3,
   "metadata": {},
   "outputs": [],
   "source": [
    "# within machine learning\n",
    "# within supervised learning\n",
    "# within classification\n",
    "\n",
    "# text classification"
   ]
  },
  {
   "cell_type": "code",
   "execution_count": 4,
   "metadata": {},
   "outputs": [],
   "source": [
    "# classify by source\n",
    "# classify by meaning\n",
    "# classify by age\n",
    "\n",
    "# spam filter"
   ]
  },
  {
   "cell_type": "code",
   "execution_count": 6,
   "metadata": {},
   "outputs": [
    {
     "name": "stdout",
     "output_type": "stream",
     "text": [
      "--2020-10-14 22:17:18--  http://files.lerner.co.il/text-analysis.zip\n",
      "Resolving files.lerner.co.il (files.lerner.co.il)... 138.197.26.202\n",
      "Connecting to files.lerner.co.il (files.lerner.co.il)|138.197.26.202|:80... connected.\n",
      "HTTP request sent, awaiting response... 200 OK\n",
      "Length: 3447 (3.4K) [application/zip]\n",
      "Saving to: ‘text-analysis.zip’\n",
      "\n",
      "text-analysis.zip   100%[===================>]   3.37K  8.25KB/s    in 0.4s    \n",
      "\n",
      "2020-10-14 22:17:19 (8.25 KB/s) - ‘text-analysis.zip’ saved [3447/3447]\n",
      "\n"
     ]
    }
   ],
   "source": [
    "!wget http://files.lerner.co.il/text-analysis.zip"
   ]
  },
  {
   "cell_type": "code",
   "execution_count": 7,
   "metadata": {},
   "outputs": [
    {
     "name": "stdout",
     "output_type": "stream",
     "text": [
      "Archive:  text-analysis.zip\r\n",
      "  inflating: spotify-support.csv     \r\n",
      "  inflating: apple-support.csv       \r\n"
     ]
    }
   ],
   "source": [
    "!unzip text-analysis.zip"
   ]
  },
  {
   "cell_type": "code",
   "execution_count": 8,
   "metadata": {},
   "outputs": [
    {
     "name": "stdout",
     "output_type": "stream",
     "text": [
      "tweet_id,author_id,inbound,created_at,text,response_tweet_id,in_response_to_tweet_id\r\n",
      "119237,105834,True,Wed Oct 11 06:55:44 +0000 2017,@AppleSupport causing the reply to be disregarded and the tapped notification under the keyboard is opened😡😡😡,119236,\r\n",
      "119248,AppleSupport,False,Wed Oct 11 13:38:29 +0000 2017,@105837 We can help. Which version of iOS are you on? You can find that in Settings &gt; General &gt; About. Reply in DM. https://t.co/GDrqU22YpT,,119249\r\n",
      "119249,105837,True,Wed Oct 11 07:37:27 +0000 2017,\"@105838 @AppleSupport Me too am suffering , hope the can find a solution\",119248,119250\r\n",
      "119250,105838,True,Wed Oct 11 05:33:17 +0000 2017,\"@AppleSupport hi #apple, I’ve a concern about the latest ios is too slow on #iphone6 and i am not happy with it. Any solution please?\",\"119249,119251\",\r\n",
      "119252,AppleSupport,False,Wed Oct 11 13:40:27 +0000 2017,@105839 Thanks for reaching out to us. We are always happy to help. Send us a DM so we can look into this together. https://t.co/GDrqU22YpT,,119253\r\n",
      "119262,AppleSupport,False,Wed Oct 11 13:30:39 +0000 2017,@105841 We'd love to help! Please DM us and let us know any steps you've tried since experiencing these behaviors. https://t.co/GDrqU22YpT,,119263\r\n",
      "119263,105841,True,Wed Oct 11 06:29:07 +0000 2017,\"@AppleSupport after the 11.0.2 my phone just sucks most of the apps are broken, wifi disconnects frequently #apple #ios1102 #painfulupdate\",119262,\r\n",
      "119267,AppleSupport,False,Wed Oct 11 13:30:38 +0000 2017,\"@105843 Battery life is important, and we're here for you. DM us the iOS version your iPhone is running. We'll go from there. https://t.co/GDrqU22YpT\",,119268\r\n",
      "119269,AppleSupport,False,Wed Oct 11 13:30:12 +0000 2017,@105844 Thanks for reaching out to us. We are always happy to help. Send us a DM so we can look into this together. https://t.co/GDrqU22YpT,,119270\r\n"
     ]
    }
   ],
   "source": [
    "!head apple-support.csv"
   ]
  },
  {
   "cell_type": "code",
   "execution_count": null,
   "metadata": {},
   "outputs": [],
   "source": []
  },
  {
   "cell_type": "code",
   "execution_count": 5,
   "metadata": {},
   "outputs": [],
   "source": [
    "# (1) get some input text, for which we know the classification\n",
    "# (2) clean up the text / put it into a format the model could use\n",
    "# (3) part of that is: defining a vocabulary and creating a term matrix\n",
    "# (4) create the model\n",
    "# (5) split our data into training and testing data\n",
    "# (6) make some predictions\n",
    "# (7) check -- how good are our predictions?"
   ]
  },
  {
   "cell_type": "markdown",
   "metadata": {},
   "source": [
    "# part 1: Get the text into data frames"
   ]
  },
  {
   "cell_type": "code",
   "execution_count": 9,
   "metadata": {},
   "outputs": [
    {
     "name": "stdout",
     "output_type": "stream",
     "text": [
      "Populating the interactive namespace from numpy and matplotlib\n"
     ]
    }
   ],
   "source": [
    "%pylab inline\n",
    "import pandas as pd\n",
    "from pandas import Series, DataFrame"
   ]
  },
  {
   "cell_type": "code",
   "execution_count": 11,
   "metadata": {},
   "outputs": [],
   "source": [
    "apple_df = pd.read_csv('apple-support.csv', usecols=['text'])\n",
    "spotify_df = pd.read_csv('spotify-support.csv', usecols=['text'])"
   ]
  },
  {
   "cell_type": "code",
   "execution_count": 13,
   "metadata": {},
   "outputs": [
    {
     "data": {
      "text/plain": [
       "(24, 1)"
      ]
     },
     "execution_count": 13,
     "metadata": {},
     "output_type": "execute_result"
    }
   ],
   "source": [
    "apple_df.shape"
   ]
  },
  {
   "cell_type": "code",
   "execution_count": 14,
   "metadata": {},
   "outputs": [
    {
     "data": {
      "text/plain": [
       "(16, 1)"
      ]
     },
     "execution_count": 14,
     "metadata": {},
     "output_type": "execute_result"
    }
   ],
   "source": [
    "spotify_df.shape"
   ]
  },
  {
   "cell_type": "code",
   "execution_count": 15,
   "metadata": {},
   "outputs": [],
   "source": [
    "# add a column indicating which source the tweets are from\n",
    "apple_df['target'] = 0\n",
    "spotify_df['target'] = 1"
   ]
  },
  {
   "cell_type": "code",
   "execution_count": 16,
   "metadata": {},
   "outputs": [
    {
     "data": {
      "text/html": [
       "<div>\n",
       "<style scoped>\n",
       "    .dataframe tbody tr th:only-of-type {\n",
       "        vertical-align: middle;\n",
       "    }\n",
       "\n",
       "    .dataframe tbody tr th {\n",
       "        vertical-align: top;\n",
       "    }\n",
       "\n",
       "    .dataframe thead th {\n",
       "        text-align: right;\n",
       "    }\n",
       "</style>\n",
       "<table border=\"1\" class=\"dataframe\">\n",
       "  <thead>\n",
       "    <tr style=\"text-align: right;\">\n",
       "      <th></th>\n",
       "      <th>text</th>\n",
       "      <th>target</th>\n",
       "    </tr>\n",
       "  </thead>\n",
       "  <tbody>\n",
       "    <tr>\n",
       "      <th>0</th>\n",
       "      <td>@AppleSupport causing the reply to be disregar...</td>\n",
       "      <td>0</td>\n",
       "    </tr>\n",
       "    <tr>\n",
       "      <th>1</th>\n",
       "      <td>@105837 We can help. Which version of iOS are ...</td>\n",
       "      <td>0</td>\n",
       "    </tr>\n",
       "    <tr>\n",
       "      <th>2</th>\n",
       "      <td>@105838 @AppleSupport Me too am suffering , ho...</td>\n",
       "      <td>0</td>\n",
       "    </tr>\n",
       "    <tr>\n",
       "      <th>3</th>\n",
       "      <td>@AppleSupport hi #apple, I’ve a concern about ...</td>\n",
       "      <td>0</td>\n",
       "    </tr>\n",
       "    <tr>\n",
       "      <th>4</th>\n",
       "      <td>@105839 Thanks for reaching out to us. We are ...</td>\n",
       "      <td>0</td>\n",
       "    </tr>\n",
       "  </tbody>\n",
       "</table>\n",
       "</div>"
      ],
      "text/plain": [
       "                                                text  target\n",
       "0  @AppleSupport causing the reply to be disregar...       0\n",
       "1  @105837 We can help. Which version of iOS are ...       0\n",
       "2  @105838 @AppleSupport Me too am suffering , ho...       0\n",
       "3  @AppleSupport hi #apple, I’ve a concern about ...       0\n",
       "4  @105839 Thanks for reaching out to us. We are ...       0"
      ]
     },
     "execution_count": 16,
     "metadata": {},
     "output_type": "execute_result"
    }
   ],
   "source": [
    "df = pd.concat([apple_df, spotify_df])\n",
    "df.head()"
   ]
  },
  {
   "cell_type": "code",
   "execution_count": 17,
   "metadata": {},
   "outputs": [
    {
     "data": {
      "text/plain": [
       "(40, 2)"
      ]
     },
     "execution_count": 17,
     "metadata": {},
     "output_type": "execute_result"
    }
   ],
   "source": [
    "df.shape"
   ]
  },
  {
   "cell_type": "code",
   "execution_count": 18,
   "metadata": {},
   "outputs": [],
   "source": [
    "apple_df = pd.read_csv('apple-support.csv', usecols=['text'])\n",
    "spotify_df = pd.read_csv('spotify-support.csv', usecols=['text'])\n",
    "\n",
    "apple_df['target'] = 0\n",
    "spotify_df['target'] = 1\n",
    "\n",
    "df = pd.concat([apple_df, spotify_df])"
   ]
  },
  {
   "cell_type": "code",
   "execution_count": 19,
   "metadata": {},
   "outputs": [
    {
     "data": {
      "text/html": [
       "<div>\n",
       "<style scoped>\n",
       "    .dataframe tbody tr th:only-of-type {\n",
       "        vertical-align: middle;\n",
       "    }\n",
       "\n",
       "    .dataframe tbody tr th {\n",
       "        vertical-align: top;\n",
       "    }\n",
       "\n",
       "    .dataframe thead th {\n",
       "        text-align: right;\n",
       "    }\n",
       "</style>\n",
       "<table border=\"1\" class=\"dataframe\">\n",
       "  <thead>\n",
       "    <tr style=\"text-align: right;\">\n",
       "      <th></th>\n",
       "      <th>text</th>\n",
       "      <th>target</th>\n",
       "    </tr>\n",
       "  </thead>\n",
       "  <tbody>\n",
       "    <tr>\n",
       "      <th>0</th>\n",
       "      <td>@AppleSupport causing the reply to be disregar...</td>\n",
       "      <td>0</td>\n",
       "    </tr>\n",
       "    <tr>\n",
       "      <th>1</th>\n",
       "      <td>@105837 We can help. Which version of iOS are ...</td>\n",
       "      <td>0</td>\n",
       "    </tr>\n",
       "    <tr>\n",
       "      <th>2</th>\n",
       "      <td>@105838 @AppleSupport Me too am suffering , ho...</td>\n",
       "      <td>0</td>\n",
       "    </tr>\n",
       "    <tr>\n",
       "      <th>3</th>\n",
       "      <td>@AppleSupport hi #apple, I’ve a concern about ...</td>\n",
       "      <td>0</td>\n",
       "    </tr>\n",
       "    <tr>\n",
       "      <th>4</th>\n",
       "      <td>@105839 Thanks for reaching out to us. We are ...</td>\n",
       "      <td>0</td>\n",
       "    </tr>\n",
       "    <tr>\n",
       "      <th>5</th>\n",
       "      <td>@105841 We'd love to help! Please DM us and le...</td>\n",
       "      <td>0</td>\n",
       "    </tr>\n",
       "    <tr>\n",
       "      <th>6</th>\n",
       "      <td>@AppleSupport after the 11.0.2 my phone just s...</td>\n",
       "      <td>0</td>\n",
       "    </tr>\n",
       "    <tr>\n",
       "      <th>7</th>\n",
       "      <td>@105843 Battery life is important, and we're h...</td>\n",
       "      <td>0</td>\n",
       "    </tr>\n",
       "    <tr>\n",
       "      <th>8</th>\n",
       "      <td>@105844 Thanks for reaching out to us. We are ...</td>\n",
       "      <td>0</td>\n",
       "    </tr>\n",
       "    <tr>\n",
       "      <th>9</th>\n",
       "      <td>@AppleSupport Can you get my iPhone 7plus back...</td>\n",
       "      <td>0</td>\n",
       "    </tr>\n",
       "    <tr>\n",
       "      <th>10</th>\n",
       "      <td>@105844 We'd be happy to help. Send us a DM an...</td>\n",
       "      <td>0</td>\n",
       "    </tr>\n",
       "    <tr>\n",
       "      <th>11</th>\n",
       "      <td>@105846 We'd like to help. What happens when y...</td>\n",
       "      <td>0</td>\n",
       "    </tr>\n",
       "    <tr>\n",
       "      <th>12</th>\n",
       "      <td>@105848 Let's take a look. What is the exact i...</td>\n",
       "      <td>0</td>\n",
       "    </tr>\n",
       "    <tr>\n",
       "      <th>13</th>\n",
       "      <td>@AppleSupport Latest version 😡😡 I have read th...</td>\n",
       "      <td>0</td>\n",
       "    </tr>\n",
       "    <tr>\n",
       "      <th>14</th>\n",
       "      <td>@AppleSupport Super help - problem solved 😀 on...</td>\n",
       "      <td>0</td>\n",
       "    </tr>\n",
       "    <tr>\n",
       "      <th>15</th>\n",
       "      <td>@AppleSupport #ios11update - is still killing ...</td>\n",
       "      <td>0</td>\n",
       "    </tr>\n",
       "    <tr>\n",
       "      <th>16</th>\n",
       "      <td>@105849 Thanks for reaching out to us. We are ...</td>\n",
       "      <td>0</td>\n",
       "    </tr>\n",
       "    <tr>\n",
       "      <th>17</th>\n",
       "      <td>@105851 We'd like to provide some assistance w...</td>\n",
       "      <td>0</td>\n",
       "    </tr>\n",
       "    <tr>\n",
       "      <th>18</th>\n",
       "      <td>@AppleSupport I need a new code for my I-store...</td>\n",
       "      <td>0</td>\n",
       "    </tr>\n",
       "    <tr>\n",
       "      <th>19</th>\n",
       "      <td>@105852 Are you experiencing an issue with you...</td>\n",
       "      <td>0</td>\n",
       "    </tr>\n",
       "    <tr>\n",
       "      <th>20</th>\n",
       "      <td>@76099 @AppleSupport fix this update. It’s hor...</td>\n",
       "      <td>0</td>\n",
       "    </tr>\n",
       "    <tr>\n",
       "      <th>21</th>\n",
       "      <td>@105857 Is there a particular app that seems t...</td>\n",
       "      <td>0</td>\n",
       "    </tr>\n",
       "    <tr>\n",
       "      <th>22</th>\n",
       "      <td>@AppleSupport I have the latest version iOS. I...</td>\n",
       "      <td>0</td>\n",
       "    </tr>\n",
       "    <tr>\n",
       "      <th>23</th>\n",
       "      <td>@105857 We'd like to help if we can. When did ...</td>\n",
       "      <td>0</td>\n",
       "    </tr>\n",
       "    <tr>\n",
       "      <th>0</th>\n",
       "      <td>@105840 Hi there! What device is this happenin...</td>\n",
       "      <td>1</td>\n",
       "    </tr>\n",
       "    <tr>\n",
       "      <th>1</th>\n",
       "      <td>@SpotifyCares Thanks! Version 8.4.22.857 armv7...</td>\n",
       "      <td>1</td>\n",
       "    </tr>\n",
       "    <tr>\n",
       "      <th>2</th>\n",
       "      <td>@105840 Thanks. The distance could possibly af...</td>\n",
       "      <td>1</td>\n",
       "    </tr>\n",
       "    <tr>\n",
       "      <th>3</th>\n",
       "      <td>@SpotifyCares No, but I've moved speaker to ab...</td>\n",
       "      <td>1</td>\n",
       "    </tr>\n",
       "    <tr>\n",
       "      <th>4</th>\n",
       "      <td>@105840 That's great to hear. If anything come...</td>\n",
       "      <td>1</td>\n",
       "    </tr>\n",
       "    <tr>\n",
       "      <th>5</th>\n",
       "      <td>@SpotifyCares Brilliant thanks 😊</td>\n",
       "      <td>1</td>\n",
       "    </tr>\n",
       "    <tr>\n",
       "      <th>6</th>\n",
       "      <td>@105840 You're welcome! If there's anything el...</td>\n",
       "      <td>1</td>\n",
       "    </tr>\n",
       "    <tr>\n",
       "      <th>7</th>\n",
       "      <td>@76495 @91226 Please help! Spotify Premium ski...</td>\n",
       "      <td>1</td>\n",
       "    </tr>\n",
       "    <tr>\n",
       "      <th>8</th>\n",
       "      <td>@105847 Hi Harry! Help's here. Can you check i...</td>\n",
       "      <td>1</td>\n",
       "    </tr>\n",
       "    <tr>\n",
       "      <th>9</th>\n",
       "      <td>@SpotifyCares seems to be working at this stag...</td>\n",
       "      <td>1</td>\n",
       "    </tr>\n",
       "    <tr>\n",
       "      <th>10</th>\n",
       "      <td>@105847 Sure thing. We'll keep an eye out for ...</td>\n",
       "      <td>1</td>\n",
       "    </tr>\n",
       "    <tr>\n",
       "      <th>11</th>\n",
       "      <td>@SpotifyCares problem has come back again toda...</td>\n",
       "      <td>1</td>\n",
       "    </tr>\n",
       "    <tr>\n",
       "      <th>12</th>\n",
       "      <td>@105847 Thanks for giving us a nudge about thi...</td>\n",
       "      <td>1</td>\n",
       "    </tr>\n",
       "    <tr>\n",
       "      <th>13</th>\n",
       "      <td>@SpotifyCares It's on a Macbook Air (early 201...</td>\n",
       "      <td>1</td>\n",
       "    </tr>\n",
       "    <tr>\n",
       "      <th>14</th>\n",
       "      <td>@105847 Got it. Can you try the steps here for...</td>\n",
       "      <td>1</td>\n",
       "    </tr>\n",
       "    <tr>\n",
       "      <th>15</th>\n",
       "      <td>@SpotifyCares i've been having issues with pla...</td>\n",
       "      <td>1</td>\n",
       "    </tr>\n",
       "  </tbody>\n",
       "</table>\n",
       "</div>"
      ],
      "text/plain": [
       "                                                 text  target\n",
       "0   @AppleSupport causing the reply to be disregar...       0\n",
       "1   @105837 We can help. Which version of iOS are ...       0\n",
       "2   @105838 @AppleSupport Me too am suffering , ho...       0\n",
       "3   @AppleSupport hi #apple, I’ve a concern about ...       0\n",
       "4   @105839 Thanks for reaching out to us. We are ...       0\n",
       "5   @105841 We'd love to help! Please DM us and le...       0\n",
       "6   @AppleSupport after the 11.0.2 my phone just s...       0\n",
       "7   @105843 Battery life is important, and we're h...       0\n",
       "8   @105844 Thanks for reaching out to us. We are ...       0\n",
       "9   @AppleSupport Can you get my iPhone 7plus back...       0\n",
       "10  @105844 We'd be happy to help. Send us a DM an...       0\n",
       "11  @105846 We'd like to help. What happens when y...       0\n",
       "12  @105848 Let's take a look. What is the exact i...       0\n",
       "13  @AppleSupport Latest version 😡😡 I have read th...       0\n",
       "14  @AppleSupport Super help - problem solved 😀 on...       0\n",
       "15  @AppleSupport #ios11update - is still killing ...       0\n",
       "16  @105849 Thanks for reaching out to us. We are ...       0\n",
       "17  @105851 We'd like to provide some assistance w...       0\n",
       "18  @AppleSupport I need a new code for my I-store...       0\n",
       "19  @105852 Are you experiencing an issue with you...       0\n",
       "20  @76099 @AppleSupport fix this update. It’s hor...       0\n",
       "21  @105857 Is there a particular app that seems t...       0\n",
       "22  @AppleSupport I have the latest version iOS. I...       0\n",
       "23  @105857 We'd like to help if we can. When did ...       0\n",
       "0   @105840 Hi there! What device is this happenin...       1\n",
       "1   @SpotifyCares Thanks! Version 8.4.22.857 armv7...       1\n",
       "2   @105840 Thanks. The distance could possibly af...       1\n",
       "3   @SpotifyCares No, but I've moved speaker to ab...       1\n",
       "4   @105840 That's great to hear. If anything come...       1\n",
       "5                    @SpotifyCares Brilliant thanks 😊       1\n",
       "6   @105840 You're welcome! If there's anything el...       1\n",
       "7   @76495 @91226 Please help! Spotify Premium ski...       1\n",
       "8   @105847 Hi Harry! Help's here. Can you check i...       1\n",
       "9   @SpotifyCares seems to be working at this stag...       1\n",
       "10  @105847 Sure thing. We'll keep an eye out for ...       1\n",
       "11  @SpotifyCares problem has come back again toda...       1\n",
       "12  @105847 Thanks for giving us a nudge about thi...       1\n",
       "13  @SpotifyCares It's on a Macbook Air (early 201...       1\n",
       "14  @105847 Got it. Can you try the steps here for...       1\n",
       "15  @SpotifyCares i've been having issues with pla...       1"
      ]
     },
     "execution_count": 19,
     "metadata": {},
     "output_type": "execute_result"
    }
   ],
   "source": [
    "df"
   ]
  },
  {
   "cell_type": "code",
   "execution_count": 23,
   "metadata": {},
   "outputs": [
    {
     "data": {
      "text/plain": [
       "'@AppleSupport causing the reply to be disregarded and the tapped notification under the keyboard is opened😡😡😡'"
      ]
     },
     "execution_count": 23,
     "metadata": {},
     "output_type": "execute_result"
    }
   ],
   "source": [
    "df.iloc[0]['text']"
   ]
  },
  {
   "cell_type": "code",
   "execution_count": 24,
   "metadata": {},
   "outputs": [],
   "source": [
    "# text #1 = have a nice day\n",
    "# text #2 = what day is today?\n",
    "\n",
    "# vocabulary\n",
    "\n",
    "# document term matrix (DTM)\n",
    "\n",
    "# have nice day what today\n",
    "# 1     1   1   0     0\n",
    "# 0     0   1   1     1\n",
    "\n",
    "# we're going to use the \"count vectorizer\" to create a vocabulary\n",
    "# and a DTM\n",
    "\n",
    "from sklearn.feature_extraction.text import CountVectorizer\n",
    "cv = CountVectorizer()\n",
    "\n"
   ]
  },
  {
   "cell_type": "code",
   "execution_count": null,
   "metadata": {},
   "outputs": [],
   "source": []
  }
 ],
 "metadata": {
  "kernelspec": {
   "display_name": "Python 3",
   "language": "python",
   "name": "python3"
  },
  "language_info": {
   "codemirror_mode": {
    "name": "ipython",
    "version": 3
   },
   "file_extension": ".py",
   "mimetype": "text/x-python",
   "name": "python",
   "nbconvert_exporter": "python",
   "pygments_lexer": "ipython3",
   "version": "3.8.6"
  }
 },
 "nbformat": 4,
 "nbformat_minor": 4
}
