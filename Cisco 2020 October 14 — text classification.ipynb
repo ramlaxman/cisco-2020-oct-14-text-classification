{
 "cells": [
  {
   "cell_type": "code",
   "execution_count": 1,
   "metadata": {},
   "outputs": [],
   "source": [
    "# text classification\n",
    "\n",
    "# let's make predictions!\n",
    "\n",
    "\n",
    "# End goal:\n",
    "\n",
    "# model.predict(my_text)  # it'll tell us the classification of that text"
   ]
  },
  {
   "cell_type": "code",
   "execution_count": 2,
   "metadata": {},
   "outputs": [],
   "source": [
    "# two basic types of machine learning:\n",
    "# - supervised learning\n",
    "#     teaching the computer with examples\n",
    "#     asking it to make predictions based on examples\n",
    "\n",
    "#     - classification\n",
    "#     - regression\n",
    "\n",
    "# - unsupervised learning"
   ]
  },
  {
   "cell_type": "code",
   "execution_count": 3,
   "metadata": {},
   "outputs": [],
   "source": [
    "# within machine learning\n",
    "# within supervised learning\n",
    "# within classification\n",
    "\n",
    "# text classification"
   ]
  },
  {
   "cell_type": "code",
   "execution_count": 4,
   "metadata": {},
   "outputs": [],
   "source": [
    "# classify by source\n",
    "# classify by meaning\n",
    "# classify by age\n",
    "\n",
    "# spam filter"
   ]
  },
  {
   "cell_type": "code",
   "execution_count": 5,
   "metadata": {},
   "outputs": [],
   "source": [
    "# (1) get some input text, for which we know the classification\n",
    "# (2) clean up the text / put it into a format the model could use\n",
    "# (3) part of that is: defining a vocabulary and creating a term matrix\n",
    "# (4) create the model\n",
    "# (5) split our data into training and testing data\n",
    "# (6) make some predictions\n",
    "# (7) check -- how good are our predictions?"
   ]
  },
  {
   "cell_type": "code",
   "execution_count": 6,
   "metadata": {},
   "outputs": [
    {
     "name": "stdout",
     "output_type": "stream",
     "text": [
      "--2020-10-14 22:17:18--  http://files.lerner.co.il/text-analysis.zip\n",
      "Resolving files.lerner.co.il (files.lerner.co.il)... 138.197.26.202\n",
      "Connecting to files.lerner.co.il (files.lerner.co.il)|138.197.26.202|:80... connected.\n",
      "HTTP request sent, awaiting response... 200 OK\n",
      "Length: 3447 (3.4K) [application/zip]\n",
      "Saving to: ‘text-analysis.zip’\n",
      "\n",
      "text-analysis.zip   100%[===================>]   3.37K  8.25KB/s    in 0.4s    \n",
      "\n",
      "2020-10-14 22:17:19 (8.25 KB/s) - ‘text-analysis.zip’ saved [3447/3447]\n",
      "\n"
     ]
    }
   ],
   "source": [
    "!wget http://files.lerner.co.il/text-analysis.zip"
   ]
  },
  {
   "cell_type": "code",
   "execution_count": 7,
   "metadata": {},
   "outputs": [
    {
     "name": "stdout",
     "output_type": "stream",
     "text": [
      "Archive:  text-analysis.zip\r\n",
      "  inflating: spotify-support.csv     \r\n",
      "  inflating: apple-support.csv       \r\n"
     ]
    }
   ],
   "source": [
    "!unzip text-analysis.zip"
   ]
  },
  {
   "cell_type": "code",
   "execution_count": null,
   "metadata": {},
   "outputs": [],
   "source": []
  }
 ],
 "metadata": {
  "kernelspec": {
   "display_name": "Python 3",
   "language": "python",
   "name": "python3"
  },
  "language_info": {
   "codemirror_mode": {
    "name": "ipython",
    "version": 3
   },
   "file_extension": ".py",
   "mimetype": "text/x-python",
   "name": "python",
   "nbconvert_exporter": "python",
   "pygments_lexer": "ipython3",
   "version": "3.8.6"
  }
 },
 "nbformat": 4,
 "nbformat_minor": 4
}
