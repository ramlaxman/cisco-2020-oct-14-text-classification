{
 "cells": [
  {
   "cell_type": "code",
   "execution_count": 1,
   "metadata": {},
   "outputs": [],
   "source": [
    "# text classification\n",
    "\n",
    "# let's make predictions!\n",
    "\n",
    "\n",
    "# End goal:\n",
    "\n",
    "# model.predict(my_text)  # it'll tell us the classification of that text"
   ]
  },
  {
   "cell_type": "code",
   "execution_count": 2,
   "metadata": {},
   "outputs": [],
   "source": [
    "# two basic types of machine learning:\n",
    "# - supervised learning\n",
    "#     teaching the computer with examples\n",
    "#     asking it to make predictions based on examples\n",
    "\n",
    "#     - classification\n",
    "#     - regression\n",
    "\n",
    "# - unsupervised learning"
   ]
  },
  {
   "cell_type": "code",
   "execution_count": 3,
   "metadata": {},
   "outputs": [],
   "source": [
    "# within machine learning\n",
    "# within supervised learning\n",
    "# within classification\n",
    "\n",
    "# text classification"
   ]
  },
  {
   "cell_type": "code",
   "execution_count": 4,
   "metadata": {},
   "outputs": [],
   "source": [
    "# classify by source\n",
    "# classify by meaning\n",
    "# classify by age\n",
    "\n",
    "# spam filter"
   ]
  },
  {
   "cell_type": "code",
   "execution_count": 6,
   "metadata": {},
   "outputs": [
    {
     "name": "stdout",
     "output_type": "stream",
     "text": [
      "--2020-10-14 22:17:18--  http://files.lerner.co.il/text-analysis.zip\n",
      "Resolving files.lerner.co.il (files.lerner.co.il)... 138.197.26.202\n",
      "Connecting to files.lerner.co.il (files.lerner.co.il)|138.197.26.202|:80... connected.\n",
      "HTTP request sent, awaiting response... 200 OK\n",
      "Length: 3447 (3.4K) [application/zip]\n",
      "Saving to: ‘text-analysis.zip’\n",
      "\n",
      "text-analysis.zip   100%[===================>]   3.37K  8.25KB/s    in 0.4s    \n",
      "\n",
      "2020-10-14 22:17:19 (8.25 KB/s) - ‘text-analysis.zip’ saved [3447/3447]\n",
      "\n"
     ]
    }
   ],
   "source": [
    "!wget http://files.lerner.co.il/text-analysis.zip"
   ]
  },
  {
   "cell_type": "code",
   "execution_count": 7,
   "metadata": {},
   "outputs": [
    {
     "name": "stdout",
     "output_type": "stream",
     "text": [
      "Archive:  text-analysis.zip\r\n",
      "  inflating: spotify-support.csv     \r\n",
      "  inflating: apple-support.csv       \r\n"
     ]
    }
   ],
   "source": [
    "!unzip text-analysis.zip"
   ]
  },
  {
   "cell_type": "code",
   "execution_count": 8,
   "metadata": {},
   "outputs": [
    {
     "name": "stdout",
     "output_type": "stream",
     "text": [
      "tweet_id,author_id,inbound,created_at,text,response_tweet_id,in_response_to_tweet_id\r\n",
      "119237,105834,True,Wed Oct 11 06:55:44 +0000 2017,@AppleSupport causing the reply to be disregarded and the tapped notification under the keyboard is opened😡😡😡,119236,\r\n",
      "119248,AppleSupport,False,Wed Oct 11 13:38:29 +0000 2017,@105837 We can help. Which version of iOS are you on? You can find that in Settings &gt; General &gt; About. Reply in DM. https://t.co/GDrqU22YpT,,119249\r\n",
      "119249,105837,True,Wed Oct 11 07:37:27 +0000 2017,\"@105838 @AppleSupport Me too am suffering , hope the can find a solution\",119248,119250\r\n",
      "119250,105838,True,Wed Oct 11 05:33:17 +0000 2017,\"@AppleSupport hi #apple, I’ve a concern about the latest ios is too slow on #iphone6 and i am not happy with it. Any solution please?\",\"119249,119251\",\r\n",
      "119252,AppleSupport,False,Wed Oct 11 13:40:27 +0000 2017,@105839 Thanks for reaching out to us. We are always happy to help. Send us a DM so we can look into this together. https://t.co/GDrqU22YpT,,119253\r\n",
      "119262,AppleSupport,False,Wed Oct 11 13:30:39 +0000 2017,@105841 We'd love to help! Please DM us and let us know any steps you've tried since experiencing these behaviors. https://t.co/GDrqU22YpT,,119263\r\n",
      "119263,105841,True,Wed Oct 11 06:29:07 +0000 2017,\"@AppleSupport after the 11.0.2 my phone just sucks most of the apps are broken, wifi disconnects frequently #apple #ios1102 #painfulupdate\",119262,\r\n",
      "119267,AppleSupport,False,Wed Oct 11 13:30:38 +0000 2017,\"@105843 Battery life is important, and we're here for you. DM us the iOS version your iPhone is running. We'll go from there. https://t.co/GDrqU22YpT\",,119268\r\n",
      "119269,AppleSupport,False,Wed Oct 11 13:30:12 +0000 2017,@105844 Thanks for reaching out to us. We are always happy to help. Send us a DM so we can look into this together. https://t.co/GDrqU22YpT,,119270\r\n"
     ]
    }
   ],
   "source": [
    "!head apple-support.csv"
   ]
  },
  {
   "cell_type": "code",
   "execution_count": null,
   "metadata": {},
   "outputs": [],
   "source": []
  },
  {
   "cell_type": "code",
   "execution_count": 5,
   "metadata": {},
   "outputs": [],
   "source": [
    "# (1) get some input text, for which we know the classification\n",
    "# (2) clean up the text / put it into a format the model could use\n",
    "# (3) part of that is: defining a vocabulary and creating a term matrix\n",
    "# (4) create the model\n",
    "# (5) split our data into training and testing data\n",
    "# (6) make some predictions\n",
    "# (7) check -- how good are our predictions?"
   ]
  },
  {
   "cell_type": "markdown",
   "metadata": {},
   "source": [
    "# part 1: Get the text into data frames"
   ]
  },
  {
   "cell_type": "code",
   "execution_count": 9,
   "metadata": {},
   "outputs": [
    {
     "name": "stdout",
     "output_type": "stream",
     "text": [
      "Populating the interactive namespace from numpy and matplotlib\n"
     ]
    }
   ],
   "source": [
    "%pylab inline\n",
    "import pandas as pd\n",
    "from pandas import Series, DataFrame"
   ]
  },
  {
   "cell_type": "code",
   "execution_count": 11,
   "metadata": {},
   "outputs": [],
   "source": [
    "apple_df = pd.read_csv('apple-support.csv', usecols=['text'])\n",
    "spotify_df = pd.read_csv('spotify-support.csv', usecols=['text'])"
   ]
  },
  {
   "cell_type": "code",
   "execution_count": 13,
   "metadata": {},
   "outputs": [
    {
     "data": {
      "text/plain": [
       "(24, 1)"
      ]
     },
     "execution_count": 13,
     "metadata": {},
     "output_type": "execute_result"
    }
   ],
   "source": [
    "apple_df.shape"
   ]
  },
  {
   "cell_type": "code",
   "execution_count": 14,
   "metadata": {},
   "outputs": [
    {
     "data": {
      "text/plain": [
       "(16, 1)"
      ]
     },
     "execution_count": 14,
     "metadata": {},
     "output_type": "execute_result"
    }
   ],
   "source": [
    "spotify_df.shape"
   ]
  },
  {
   "cell_type": "code",
   "execution_count": 15,
   "metadata": {},
   "outputs": [],
   "source": [
    "# add a column indicating which source the tweets are from\n",
    "apple_df['target'] = 0\n",
    "spotify_df['target'] = 1"
   ]
  },
  {
   "cell_type": "code",
   "execution_count": 16,
   "metadata": {},
   "outputs": [
    {
     "data": {
      "text/html": [
       "<div>\n",
       "<style scoped>\n",
       "    .dataframe tbody tr th:only-of-type {\n",
       "        vertical-align: middle;\n",
       "    }\n",
       "\n",
       "    .dataframe tbody tr th {\n",
       "        vertical-align: top;\n",
       "    }\n",
       "\n",
       "    .dataframe thead th {\n",
       "        text-align: right;\n",
       "    }\n",
       "</style>\n",
       "<table border=\"1\" class=\"dataframe\">\n",
       "  <thead>\n",
       "    <tr style=\"text-align: right;\">\n",
       "      <th></th>\n",
       "      <th>text</th>\n",
       "      <th>target</th>\n",
       "    </tr>\n",
       "  </thead>\n",
       "  <tbody>\n",
       "    <tr>\n",
       "      <th>0</th>\n",
       "      <td>@AppleSupport causing the reply to be disregar...</td>\n",
       "      <td>0</td>\n",
       "    </tr>\n",
       "    <tr>\n",
       "      <th>1</th>\n",
       "      <td>@105837 We can help. Which version of iOS are ...</td>\n",
       "      <td>0</td>\n",
       "    </tr>\n",
       "    <tr>\n",
       "      <th>2</th>\n",
       "      <td>@105838 @AppleSupport Me too am suffering , ho...</td>\n",
       "      <td>0</td>\n",
       "    </tr>\n",
       "    <tr>\n",
       "      <th>3</th>\n",
       "      <td>@AppleSupport hi #apple, I’ve a concern about ...</td>\n",
       "      <td>0</td>\n",
       "    </tr>\n",
       "    <tr>\n",
       "      <th>4</th>\n",
       "      <td>@105839 Thanks for reaching out to us. We are ...</td>\n",
       "      <td>0</td>\n",
       "    </tr>\n",
       "  </tbody>\n",
       "</table>\n",
       "</div>"
      ],
      "text/plain": [
       "                                                text  target\n",
       "0  @AppleSupport causing the reply to be disregar...       0\n",
       "1  @105837 We can help. Which version of iOS are ...       0\n",
       "2  @105838 @AppleSupport Me too am suffering , ho...       0\n",
       "3  @AppleSupport hi #apple, I’ve a concern about ...       0\n",
       "4  @105839 Thanks for reaching out to us. We are ...       0"
      ]
     },
     "execution_count": 16,
     "metadata": {},
     "output_type": "execute_result"
    }
   ],
   "source": [
    "df = pd.concat([apple_df, spotify_df])\n",
    "df.head()"
   ]
  },
  {
   "cell_type": "code",
   "execution_count": 17,
   "metadata": {},
   "outputs": [
    {
     "data": {
      "text/plain": [
       "(40, 2)"
      ]
     },
     "execution_count": 17,
     "metadata": {},
     "output_type": "execute_result"
    }
   ],
   "source": [
    "df.shape"
   ]
  },
  {
   "cell_type": "code",
   "execution_count": 18,
   "metadata": {},
   "outputs": [],
   "source": [
    "apple_df = pd.read_csv('apple-support.csv', usecols=['text'])\n",
    "spotify_df = pd.read_csv('spotify-support.csv', usecols=['text'])\n",
    "\n",
    "apple_df['target'] = 0\n",
    "spotify_df['target'] = 1\n",
    "\n",
    "df = pd.concat([apple_df, spotify_df])"
   ]
  },
  {
   "cell_type": "code",
   "execution_count": 19,
   "metadata": {},
   "outputs": [
    {
     "data": {
      "text/html": [
       "<div>\n",
       "<style scoped>\n",
       "    .dataframe tbody tr th:only-of-type {\n",
       "        vertical-align: middle;\n",
       "    }\n",
       "\n",
       "    .dataframe tbody tr th {\n",
       "        vertical-align: top;\n",
       "    }\n",
       "\n",
       "    .dataframe thead th {\n",
       "        text-align: right;\n",
       "    }\n",
       "</style>\n",
       "<table border=\"1\" class=\"dataframe\">\n",
       "  <thead>\n",
       "    <tr style=\"text-align: right;\">\n",
       "      <th></th>\n",
       "      <th>text</th>\n",
       "      <th>target</th>\n",
       "    </tr>\n",
       "  </thead>\n",
       "  <tbody>\n",
       "    <tr>\n",
       "      <th>0</th>\n",
       "      <td>@AppleSupport causing the reply to be disregar...</td>\n",
       "      <td>0</td>\n",
       "    </tr>\n",
       "    <tr>\n",
       "      <th>1</th>\n",
       "      <td>@105837 We can help. Which version of iOS are ...</td>\n",
       "      <td>0</td>\n",
       "    </tr>\n",
       "    <tr>\n",
       "      <th>2</th>\n",
       "      <td>@105838 @AppleSupport Me too am suffering , ho...</td>\n",
       "      <td>0</td>\n",
       "    </tr>\n",
       "    <tr>\n",
       "      <th>3</th>\n",
       "      <td>@AppleSupport hi #apple, I’ve a concern about ...</td>\n",
       "      <td>0</td>\n",
       "    </tr>\n",
       "    <tr>\n",
       "      <th>4</th>\n",
       "      <td>@105839 Thanks for reaching out to us. We are ...</td>\n",
       "      <td>0</td>\n",
       "    </tr>\n",
       "    <tr>\n",
       "      <th>5</th>\n",
       "      <td>@105841 We'd love to help! Please DM us and le...</td>\n",
       "      <td>0</td>\n",
       "    </tr>\n",
       "    <tr>\n",
       "      <th>6</th>\n",
       "      <td>@AppleSupport after the 11.0.2 my phone just s...</td>\n",
       "      <td>0</td>\n",
       "    </tr>\n",
       "    <tr>\n",
       "      <th>7</th>\n",
       "      <td>@105843 Battery life is important, and we're h...</td>\n",
       "      <td>0</td>\n",
       "    </tr>\n",
       "    <tr>\n",
       "      <th>8</th>\n",
       "      <td>@105844 Thanks for reaching out to us. We are ...</td>\n",
       "      <td>0</td>\n",
       "    </tr>\n",
       "    <tr>\n",
       "      <th>9</th>\n",
       "      <td>@AppleSupport Can you get my iPhone 7plus back...</td>\n",
       "      <td>0</td>\n",
       "    </tr>\n",
       "    <tr>\n",
       "      <th>10</th>\n",
       "      <td>@105844 We'd be happy to help. Send us a DM an...</td>\n",
       "      <td>0</td>\n",
       "    </tr>\n",
       "    <tr>\n",
       "      <th>11</th>\n",
       "      <td>@105846 We'd like to help. What happens when y...</td>\n",
       "      <td>0</td>\n",
       "    </tr>\n",
       "    <tr>\n",
       "      <th>12</th>\n",
       "      <td>@105848 Let's take a look. What is the exact i...</td>\n",
       "      <td>0</td>\n",
       "    </tr>\n",
       "    <tr>\n",
       "      <th>13</th>\n",
       "      <td>@AppleSupport Latest version 😡😡 I have read th...</td>\n",
       "      <td>0</td>\n",
       "    </tr>\n",
       "    <tr>\n",
       "      <th>14</th>\n",
       "      <td>@AppleSupport Super help - problem solved 😀 on...</td>\n",
       "      <td>0</td>\n",
       "    </tr>\n",
       "    <tr>\n",
       "      <th>15</th>\n",
       "      <td>@AppleSupport #ios11update - is still killing ...</td>\n",
       "      <td>0</td>\n",
       "    </tr>\n",
       "    <tr>\n",
       "      <th>16</th>\n",
       "      <td>@105849 Thanks for reaching out to us. We are ...</td>\n",
       "      <td>0</td>\n",
       "    </tr>\n",
       "    <tr>\n",
       "      <th>17</th>\n",
       "      <td>@105851 We'd like to provide some assistance w...</td>\n",
       "      <td>0</td>\n",
       "    </tr>\n",
       "    <tr>\n",
       "      <th>18</th>\n",
       "      <td>@AppleSupport I need a new code for my I-store...</td>\n",
       "      <td>0</td>\n",
       "    </tr>\n",
       "    <tr>\n",
       "      <th>19</th>\n",
       "      <td>@105852 Are you experiencing an issue with you...</td>\n",
       "      <td>0</td>\n",
       "    </tr>\n",
       "    <tr>\n",
       "      <th>20</th>\n",
       "      <td>@76099 @AppleSupport fix this update. It’s hor...</td>\n",
       "      <td>0</td>\n",
       "    </tr>\n",
       "    <tr>\n",
       "      <th>21</th>\n",
       "      <td>@105857 Is there a particular app that seems t...</td>\n",
       "      <td>0</td>\n",
       "    </tr>\n",
       "    <tr>\n",
       "      <th>22</th>\n",
       "      <td>@AppleSupport I have the latest version iOS. I...</td>\n",
       "      <td>0</td>\n",
       "    </tr>\n",
       "    <tr>\n",
       "      <th>23</th>\n",
       "      <td>@105857 We'd like to help if we can. When did ...</td>\n",
       "      <td>0</td>\n",
       "    </tr>\n",
       "    <tr>\n",
       "      <th>0</th>\n",
       "      <td>@105840 Hi there! What device is this happenin...</td>\n",
       "      <td>1</td>\n",
       "    </tr>\n",
       "    <tr>\n",
       "      <th>1</th>\n",
       "      <td>@SpotifyCares Thanks! Version 8.4.22.857 armv7...</td>\n",
       "      <td>1</td>\n",
       "    </tr>\n",
       "    <tr>\n",
       "      <th>2</th>\n",
       "      <td>@105840 Thanks. The distance could possibly af...</td>\n",
       "      <td>1</td>\n",
       "    </tr>\n",
       "    <tr>\n",
       "      <th>3</th>\n",
       "      <td>@SpotifyCares No, but I've moved speaker to ab...</td>\n",
       "      <td>1</td>\n",
       "    </tr>\n",
       "    <tr>\n",
       "      <th>4</th>\n",
       "      <td>@105840 That's great to hear. If anything come...</td>\n",
       "      <td>1</td>\n",
       "    </tr>\n",
       "    <tr>\n",
       "      <th>5</th>\n",
       "      <td>@SpotifyCares Brilliant thanks 😊</td>\n",
       "      <td>1</td>\n",
       "    </tr>\n",
       "    <tr>\n",
       "      <th>6</th>\n",
       "      <td>@105840 You're welcome! If there's anything el...</td>\n",
       "      <td>1</td>\n",
       "    </tr>\n",
       "    <tr>\n",
       "      <th>7</th>\n",
       "      <td>@76495 @91226 Please help! Spotify Premium ski...</td>\n",
       "      <td>1</td>\n",
       "    </tr>\n",
       "    <tr>\n",
       "      <th>8</th>\n",
       "      <td>@105847 Hi Harry! Help's here. Can you check i...</td>\n",
       "      <td>1</td>\n",
       "    </tr>\n",
       "    <tr>\n",
       "      <th>9</th>\n",
       "      <td>@SpotifyCares seems to be working at this stag...</td>\n",
       "      <td>1</td>\n",
       "    </tr>\n",
       "    <tr>\n",
       "      <th>10</th>\n",
       "      <td>@105847 Sure thing. We'll keep an eye out for ...</td>\n",
       "      <td>1</td>\n",
       "    </tr>\n",
       "    <tr>\n",
       "      <th>11</th>\n",
       "      <td>@SpotifyCares problem has come back again toda...</td>\n",
       "      <td>1</td>\n",
       "    </tr>\n",
       "    <tr>\n",
       "      <th>12</th>\n",
       "      <td>@105847 Thanks for giving us a nudge about thi...</td>\n",
       "      <td>1</td>\n",
       "    </tr>\n",
       "    <tr>\n",
       "      <th>13</th>\n",
       "      <td>@SpotifyCares It's on a Macbook Air (early 201...</td>\n",
       "      <td>1</td>\n",
       "    </tr>\n",
       "    <tr>\n",
       "      <th>14</th>\n",
       "      <td>@105847 Got it. Can you try the steps here for...</td>\n",
       "      <td>1</td>\n",
       "    </tr>\n",
       "    <tr>\n",
       "      <th>15</th>\n",
       "      <td>@SpotifyCares i've been having issues with pla...</td>\n",
       "      <td>1</td>\n",
       "    </tr>\n",
       "  </tbody>\n",
       "</table>\n",
       "</div>"
      ],
      "text/plain": [
       "                                                 text  target\n",
       "0   @AppleSupport causing the reply to be disregar...       0\n",
       "1   @105837 We can help. Which version of iOS are ...       0\n",
       "2   @105838 @AppleSupport Me too am suffering , ho...       0\n",
       "3   @AppleSupport hi #apple, I’ve a concern about ...       0\n",
       "4   @105839 Thanks for reaching out to us. We are ...       0\n",
       "5   @105841 We'd love to help! Please DM us and le...       0\n",
       "6   @AppleSupport after the 11.0.2 my phone just s...       0\n",
       "7   @105843 Battery life is important, and we're h...       0\n",
       "8   @105844 Thanks for reaching out to us. We are ...       0\n",
       "9   @AppleSupport Can you get my iPhone 7plus back...       0\n",
       "10  @105844 We'd be happy to help. Send us a DM an...       0\n",
       "11  @105846 We'd like to help. What happens when y...       0\n",
       "12  @105848 Let's take a look. What is the exact i...       0\n",
       "13  @AppleSupport Latest version 😡😡 I have read th...       0\n",
       "14  @AppleSupport Super help - problem solved 😀 on...       0\n",
       "15  @AppleSupport #ios11update - is still killing ...       0\n",
       "16  @105849 Thanks for reaching out to us. We are ...       0\n",
       "17  @105851 We'd like to provide some assistance w...       0\n",
       "18  @AppleSupport I need a new code for my I-store...       0\n",
       "19  @105852 Are you experiencing an issue with you...       0\n",
       "20  @76099 @AppleSupport fix this update. It’s hor...       0\n",
       "21  @105857 Is there a particular app that seems t...       0\n",
       "22  @AppleSupport I have the latest version iOS. I...       0\n",
       "23  @105857 We'd like to help if we can. When did ...       0\n",
       "0   @105840 Hi there! What device is this happenin...       1\n",
       "1   @SpotifyCares Thanks! Version 8.4.22.857 armv7...       1\n",
       "2   @105840 Thanks. The distance could possibly af...       1\n",
       "3   @SpotifyCares No, but I've moved speaker to ab...       1\n",
       "4   @105840 That's great to hear. If anything come...       1\n",
       "5                    @SpotifyCares Brilliant thanks 😊       1\n",
       "6   @105840 You're welcome! If there's anything el...       1\n",
       "7   @76495 @91226 Please help! Spotify Premium ski...       1\n",
       "8   @105847 Hi Harry! Help's here. Can you check i...       1\n",
       "9   @SpotifyCares seems to be working at this stag...       1\n",
       "10  @105847 Sure thing. We'll keep an eye out for ...       1\n",
       "11  @SpotifyCares problem has come back again toda...       1\n",
       "12  @105847 Thanks for giving us a nudge about thi...       1\n",
       "13  @SpotifyCares It's on a Macbook Air (early 201...       1\n",
       "14  @105847 Got it. Can you try the steps here for...       1\n",
       "15  @SpotifyCares i've been having issues with pla...       1"
      ]
     },
     "execution_count": 19,
     "metadata": {},
     "output_type": "execute_result"
    }
   ],
   "source": [
    "df"
   ]
  },
  {
   "cell_type": "code",
   "execution_count": 23,
   "metadata": {},
   "outputs": [
    {
     "data": {
      "text/plain": [
       "'@AppleSupport causing the reply to be disregarded and the tapped notification under the keyboard is opened😡😡😡'"
      ]
     },
     "execution_count": 23,
     "metadata": {},
     "output_type": "execute_result"
    }
   ],
   "source": [
    "df.iloc[0]['text']"
   ]
  },
  {
   "cell_type": "code",
   "execution_count": 24,
   "metadata": {},
   "outputs": [],
   "source": [
    "# text #1 = have a nice day\n",
    "# text #2 = what day is today?\n",
    "\n",
    "# vocabulary\n",
    "\n",
    "# document term matrix (DTM)\n",
    "\n",
    "# have nice day what today\n",
    "# 1     1   1   0     0\n",
    "# 0     0   1   1     1\n",
    "\n",
    "# we're going to use the \"count vectorizer\" to create a vocabulary\n",
    "# and a DTM\n",
    "\n",
    "from sklearn.feature_extraction.text import CountVectorizer\n",
    "cv = CountVectorizer()\n",
    "\n"
   ]
  },
  {
   "cell_type": "code",
   "execution_count": 25,
   "metadata": {},
   "outputs": [
    {
     "data": {
      "text/plain": [
       "CountVectorizer()"
      ]
     },
     "execution_count": 25,
     "metadata": {},
     "output_type": "execute_result"
    }
   ],
   "source": [
    "# have the vectorizer establish the vocabulary from our texts\n",
    "cv.fit(df['text'])"
   ]
  },
  {
   "cell_type": "code",
   "execution_count": 26,
   "metadata": {
    "collapsed": true
   },
   "outputs": [
    {
     "data": {
      "text/plain": [
       "['10',\n",
       " '105837',\n",
       " '105838',\n",
       " '105839',\n",
       " '105840',\n",
       " '105841',\n",
       " '105843',\n",
       " '105844',\n",
       " '105846',\n",
       " '105847',\n",
       " '105848',\n",
       " '105849',\n",
       " '105851',\n",
       " '105852',\n",
       " '105857',\n",
       " '11',\n",
       " '12',\n",
       " '2014',\n",
       " '2016',\n",
       " '22',\n",
       " '320',\n",
       " '65',\n",
       " '76099',\n",
       " '76495',\n",
       " '7plus',\n",
       " '857',\n",
       " '91226',\n",
       " 'about',\n",
       " 'affect',\n",
       " 'after',\n",
       " 'again',\n",
       " 'air',\n",
       " 'all',\n",
       " 'also',\n",
       " 'always',\n",
       " 'am',\n",
       " 'amp',\n",
       " 'an',\n",
       " 'and',\n",
       " 'android',\n",
       " 'anker',\n",
       " 'any',\n",
       " 'anything',\n",
       " 'app',\n",
       " 'apple',\n",
       " 'applesupport',\n",
       " 'apps',\n",
       " 'are',\n",
       " 'armv7',\n",
       " 'assistance',\n",
       " 'at',\n",
       " 'away',\n",
       " 'ay',\n",
       " 'back',\n",
       " 'battery',\n",
       " 'be',\n",
       " 'been',\n",
       " 'before',\n",
       " 'behaviors',\n",
       " 'bluetooth',\n",
       " 'brilliant',\n",
       " 'broken',\n",
       " 'bug',\n",
       " 'but',\n",
       " 'can',\n",
       " 'carry',\n",
       " 'cause',\n",
       " 'causing',\n",
       " 'check',\n",
       " 'cheers',\n",
       " 'close',\n",
       " 'co',\n",
       " 'code',\n",
       " 'come',\n",
       " 'comes',\n",
       " 'concern',\n",
       " 'constantly',\n",
       " 'could',\n",
       " 'cp',\n",
       " 'crash',\n",
       " 'crossed',\n",
       " 'currently',\n",
       " 'days',\n",
       " 'device',\n",
       " 'did',\n",
       " 'difference',\n",
       " 'disconnects',\n",
       " 'disgrace',\n",
       " 'disregarded',\n",
       " 'distance',\n",
       " 'dm',\n",
       " 'does',\n",
       " 'dropped',\n",
       " 'early',\n",
       " 'else',\n",
       " 'eqisdmwzat',\n",
       " 'everything',\n",
       " 'exact',\n",
       " 'experiencing',\n",
       " 'eye',\n",
       " 'find',\n",
       " 'fingers',\n",
       " 'fix',\n",
       " 'for',\n",
       " 'frequently',\n",
       " 'from',\n",
       " 'gac7a8e02',\n",
       " 'galaxy',\n",
       " 'gdrqu22ypt',\n",
       " 'general',\n",
       " 'get',\n",
       " 'give',\n",
       " 'giving',\n",
       " 'go',\n",
       " 'going',\n",
       " 'got',\n",
       " 'great',\n",
       " 'gt',\n",
       " 'half',\n",
       " 'happening',\n",
       " 'happens',\n",
       " 'happy',\n",
       " 'harry',\n",
       " 'has',\n",
       " 'have',\n",
       " 'haven',\n",
       " 'having',\n",
       " 'hear',\n",
       " 'help',\n",
       " 'helping',\n",
       " 'here',\n",
       " 'hi',\n",
       " 'high',\n",
       " 'hope',\n",
       " 'horrible',\n",
       " 'hours',\n",
       " 'how',\n",
       " 'https',\n",
       " 'if',\n",
       " 'immediately',\n",
       " 'important',\n",
       " 'in',\n",
       " 'into',\n",
       " 'ios',\n",
       " 'ios1102',\n",
       " 'ios11update',\n",
       " 'iphone',\n",
       " 'iphone6',\n",
       " 'is',\n",
       " 'issue',\n",
       " 'issues',\n",
       " 'it',\n",
       " 'join',\n",
       " 'just',\n",
       " 'keep',\n",
       " 'keyboard',\n",
       " 'killing',\n",
       " 'kind',\n",
       " 'know',\n",
       " 'latest',\n",
       " 'let',\n",
       " 'life',\n",
       " 'like',\n",
       " 'listen',\n",
       " 'll',\n",
       " 'location',\n",
       " 'logging',\n",
       " 'look',\n",
       " 'love',\n",
       " 'macbook',\n",
       " 'make',\n",
       " 'makes',\n",
       " 'many',\n",
       " 'matter',\n",
       " 'me',\n",
       " 'metre',\n",
       " 'metres',\n",
       " 'midway',\n",
       " 'mo',\n",
       " 'model',\n",
       " 'months',\n",
       " 'more',\n",
       " 'most',\n",
       " 'moved',\n",
       " 'msg',\n",
       " 'mu',\n",
       " 'music',\n",
       " 'my',\n",
       " 'need',\n",
       " 'new',\n",
       " 'no',\n",
       " 'not',\n",
       " 'noticing',\n",
       " 'notification',\n",
       " 'now',\n",
       " 'nudge',\n",
       " 'of',\n",
       " 'off',\n",
       " 'old',\n",
       " 'on',\n",
       " 'once',\n",
       " 'opened',\n",
       " 'operating',\n",
       " 'or',\n",
       " 'others',\n",
       " 'out',\n",
       " 'page',\n",
       " 'painfulupdate',\n",
       " 'particular',\n",
       " 'pause',\n",
       " 'phone',\n",
       " 'playback',\n",
       " 'plays',\n",
       " 'please',\n",
       " 'possibly',\n",
       " 'posted',\n",
       " 'premium',\n",
       " 'problem',\n",
       " 'provide',\n",
       " 're',\n",
       " 'reaching',\n",
       " 'read',\n",
       " 'recd',\n",
       " 'reopen',\n",
       " 'reply',\n",
       " 'restart',\n",
       " 'restarting',\n",
       " 'running',\n",
       " 'runs',\n",
       " 'samsung',\n",
       " 'see',\n",
       " 'seems',\n",
       " 'send',\n",
       " 'sent',\n",
       " 'settings',\n",
       " 'should',\n",
       " 'shout',\n",
       " 'sierra',\n",
       " 'since',\n",
       " 'skipping',\n",
       " 'slow',\n",
       " 'sm',\n",
       " 'so',\n",
       " 'solution',\n",
       " 'solved',\n",
       " 'some',\n",
       " 'songs',\n",
       " 'speaker',\n",
       " 'specific',\n",
       " 'spotify',\n",
       " 'spotifycares',\n",
       " 'stage',\n",
       " 'start',\n",
       " 'started',\n",
       " 'steps',\n",
       " 'still',\n",
       " 'stopping',\n",
       " 'store',\n",
       " 'sucks',\n",
       " 'suffering',\n",
       " 'super',\n",
       " 'sure',\n",
       " 'svs',\n",
       " 'system',\n",
       " 't280',\n",
       " 'tab',\n",
       " 'tablet',\n",
       " 'take',\n",
       " 'tapped',\n",
       " 'tell',\n",
       " 'than',\n",
       " 'thanks',\n",
       " 'that',\n",
       " 'the',\n",
       " 'there',\n",
       " 'these',\n",
       " 'they',\n",
       " 'thing',\n",
       " 'this',\n",
       " 'through',\n",
       " 'time',\n",
       " 'to',\n",
       " 'today',\n",
       " 'together',\n",
       " 'too',\n",
       " 'tried',\n",
       " 'try',\n",
       " 'turned',\n",
       " 'typing',\n",
       " 'under',\n",
       " 'unless',\n",
       " 'up',\n",
       " 'update',\n",
       " 'updated',\n",
       " 'us',\n",
       " 'use',\n",
       " 'used',\n",
       " 'using',\n",
       " 've',\n",
       " 'version',\n",
       " 'versions',\n",
       " 'virtually',\n",
       " 'was',\n",
       " 'we',\n",
       " 'welcome',\n",
       " 'what',\n",
       " 'whatsapp',\n",
       " 'when',\n",
       " 'which',\n",
       " 'wifi',\n",
       " 'will',\n",
       " 'with',\n",
       " 'within',\n",
       " 'won',\n",
       " 'working',\n",
       " 'you',\n",
       " 'your']"
      ]
     },
     "execution_count": 26,
     "metadata": {},
     "output_type": "execute_result"
    }
   ],
   "source": [
    "cv.get_feature_names()"
   ]
  },
  {
   "cell_type": "code",
   "execution_count": 27,
   "metadata": {},
   "outputs": [],
   "source": [
    "# create a DTM from our texts, using the vocabulary\n",
    "# we'll call this DTM X, because it'll be our input for model predictions\n",
    "\n",
    "X = cv.transform(df['text'])"
   ]
  },
  {
   "cell_type": "code",
   "execution_count": 28,
   "metadata": {},
   "outputs": [
    {
     "data": {
      "text/plain": [
       "<40x317 sparse matrix of type '<class 'numpy.int64'>'\n",
       "\twith 787 stored elements in Compressed Sparse Row format>"
      ]
     },
     "execution_count": 28,
     "metadata": {},
     "output_type": "execute_result"
    }
   ],
   "source": [
    "X"
   ]
  },
  {
   "cell_type": "code",
   "execution_count": 29,
   "metadata": {},
   "outputs": [],
   "source": [
    "y = df['target']"
   ]
  },
  {
   "cell_type": "code",
   "execution_count": 30,
   "metadata": {},
   "outputs": [],
   "source": [
    "# we're going to use the Multinomial Naive Bayes model\n",
    "from sklearn.naive_bayes import MultinomialNB\n",
    "model = MultinomialNB()   "
   ]
  },
  {
   "cell_type": "code",
   "execution_count": 31,
   "metadata": {},
   "outputs": [],
   "source": [
    "# classic way to teach a model... give it all X and all y\n",
    "model.fit(X, y)\n",
    "\n",
    "# now that we have trained our model, let's make some predictions!\n",
    "y_pred = model.predict(X)"
   ]
  },
  {
   "cell_type": "code",
   "execution_count": 32,
   "metadata": {},
   "outputs": [
    {
     "data": {
      "text/plain": [
       "1.0"
      ]
     },
     "execution_count": 32,
     "metadata": {},
     "output_type": "execute_result"
    }
   ],
   "source": [
    "from sklearn.metrics import accuracy_score\n",
    "accuracy_score(y_pred, y)"
   ]
  },
  {
   "cell_type": "code",
   "execution_count": 33,
   "metadata": {},
   "outputs": [
    {
     "data": {
      "text/plain": [
       "array([0, 0, 0, 0, 0, 0, 0, 0, 0, 0, 0, 0, 0, 0, 0, 0, 0, 0, 0, 0, 0, 0,\n",
       "       0, 0, 1, 1, 1, 1, 1, 1, 1, 1, 1, 1, 1, 1, 1, 1, 1, 1])"
      ]
     },
     "execution_count": 33,
     "metadata": {},
     "output_type": "execute_result"
    }
   ],
   "source": [
    "y_pred"
   ]
  },
  {
   "cell_type": "code",
   "execution_count": 36,
   "metadata": {},
   "outputs": [
    {
     "data": {
      "text/plain": [
       "array([0, 0, 0, 0, 0, 0, 0, 0, 0, 0, 0, 0, 0, 0, 0, 0, 0, 0, 0, 0, 0, 0,\n",
       "       0, 0, 1, 1, 1, 1, 1, 1, 1, 1, 1, 1, 1, 1, 1, 1, 1, 1])"
      ]
     },
     "execution_count": 36,
     "metadata": {},
     "output_type": "execute_result"
    }
   ],
   "source": [
    "y.values"
   ]
  },
  {
   "cell_type": "code",
   "execution_count": 38,
   "metadata": {},
   "outputs": [
    {
     "data": {
      "text/plain": [
       "1.0"
      ]
     },
     "execution_count": 38,
     "metadata": {},
     "output_type": "execute_result"
    }
   ],
   "source": [
    "from sklearn.feature_extraction.text import CountVectorizer\n",
    "from sklearn.metrics import accuracy_score\n",
    "from sklearn.naive_bayes import MultinomialNB\n",
    "\n",
    "cv = CountVectorizer()\n",
    "\n",
    "cv.fit(df['text'])            # teach CV the vocab based on df['text']\n",
    "X = cv.transform(df['text'])  # create a DTM (X) based on df['text']\n",
    "y = df['target']              # create a y based on df['target']\n",
    "\n",
    "model = MultinomialNB()       # create a new model\n",
    "model.fit(X, y)               # train the model with all of our data\n",
    "\n",
    "y_pred = model.predict(X)     # make a prediction\n",
    "accuracy_score(y_pred, y)     # was the prediction any good?"
   ]
  },
  {
   "cell_type": "code",
   "execution_count": 43,
   "metadata": {},
   "outputs": [
    {
     "data": {
      "text/plain": [
       "1.0"
      ]
     },
     "execution_count": 43,
     "metadata": {},
     "output_type": "execute_result"
    }
   ],
   "source": [
    "# we'll break up our X and y into training and testing data\n",
    "# we'll train (fit) with the training data\n",
    "# we'll test (predict) with the testing data\n",
    "\n",
    "# this checks if our model can correctly classify things it hasn't seen before\n",
    "\n",
    "from sklearn.feature_extraction.text import CountVectorizer\n",
    "from sklearn.metrics import accuracy_score\n",
    "from sklearn.naive_bayes import MultinomialNB\n",
    "from sklearn.model_selection import train_test_split\n",
    "\n",
    "cv = CountVectorizer()\n",
    "\n",
    "cv.fit(df['text'])            # teach CV the vocab based on df['text']\n",
    "X = cv.transform(df['text'])  # create a DTM (X) based on df['text']\n",
    "y = df['target']              # create a y based on df['target']\n",
    "\n",
    "X_train, X_test, y_train, y_test = train_test_split(X, y)\n",
    "\n",
    "model = MultinomialNB()       # create a new model\n",
    "model.fit(X_train, y_train)   # train the model with all of our data\n",
    "\n",
    "y_pred = model.predict(X_test)     # make a prediction\n",
    "accuracy_score(y_pred, y_test)     # was the prediction any good?"
   ]
  },
  {
   "cell_type": "code",
   "execution_count": 52,
   "metadata": {},
   "outputs": [],
   "source": [
    "# let's try it with some data of our own!\n",
    "\n",
    "test_text = ['my iphone is not working',\n",
    "            'my spotify playlist is the best',\n",
    "            'my playlist is not coming up',\n",
    "            'my macbook is having trouble',\n",
    "            'spotify spotify spotify spotify spotify',\n",
    "            'I love to listen to music',\n",
    "            'spotify premium',\n",
    "            'brilliant']\n",
    "\n",
    "test_dtm = cv.transform(test_text)"
   ]
  },
  {
   "cell_type": "code",
   "execution_count": 53,
   "metadata": {},
   "outputs": [
    {
     "data": {
      "text/plain": [
       "array([0, 0, 0, 0, 1, 0, 1, 1])"
      ]
     },
     "execution_count": 53,
     "metadata": {},
     "output_type": "execute_result"
    }
   ],
   "source": [
    "model.predict(test_dtm)"
   ]
  },
  {
   "cell_type": "code",
   "execution_count": 54,
   "metadata": {},
   "outputs": [
    {
     "data": {
      "text/plain": [
       "0     @105840 Hi there! What device is this happenin...\n",
       "1     @SpotifyCares Thanks! Version 8.4.22.857 armv7...\n",
       "2     @105840 Thanks. The distance could possibly af...\n",
       "3     @SpotifyCares No, but I've moved speaker to ab...\n",
       "4     @105840 That's great to hear. If anything come...\n",
       "5                      @SpotifyCares Brilliant thanks 😊\n",
       "6     @105840 You're welcome! If there's anything el...\n",
       "7     @76495 @91226 Please help! Spotify Premium ski...\n",
       "8     @105847 Hi Harry! Help's here. Can you check i...\n",
       "9     @SpotifyCares seems to be working at this stag...\n",
       "10    @105847 Sure thing. We'll keep an eye out for ...\n",
       "11    @SpotifyCares problem has come back again toda...\n",
       "12    @105847 Thanks for giving us a nudge about thi...\n",
       "13    @SpotifyCares It's on a Macbook Air (early 201...\n",
       "14    @105847 Got it. Can you try the steps here for...\n",
       "15    @SpotifyCares i've been having issues with pla...\n",
       "Name: text, dtype: object"
      ]
     },
     "execution_count": 54,
     "metadata": {},
     "output_type": "execute_result"
    }
   ],
   "source": [
    "spotify_df['text']"
   ]
  },
  {
   "cell_type": "code",
   "execution_count": 55,
   "metadata": {},
   "outputs": [
    {
     "data": {
      "text/plain": [
       "count    100.00000\n",
       "mean       0.92100\n",
       "std        0.06559\n",
       "min        0.80000\n",
       "25%        0.90000\n",
       "50%        0.90000\n",
       "75%        1.00000\n",
       "max        1.00000\n",
       "dtype: float64"
      ]
     },
     "execution_count": 55,
     "metadata": {},
     "output_type": "execute_result"
    }
   ],
   "source": [
    "# we'll break up our X and y into training and testing data\n",
    "# we'll train (fit) with the training data\n",
    "# we'll test (predict) with the testing data\n",
    "\n",
    "# this checks if our model can correctly classify things it hasn't seen before\n",
    "\n",
    "from sklearn.feature_extraction.text import CountVectorizer\n",
    "from sklearn.metrics import accuracy_score\n",
    "from sklearn.naive_bayes import MultinomialNB\n",
    "from sklearn.model_selection import train_test_split\n",
    "\n",
    "cv = CountVectorizer()\n",
    "\n",
    "cv.fit(df['text'])            # teach CV the vocab based on df['text']\n",
    "X = cv.transform(df['text'])  # create a DTM (X) based on df['text']\n",
    "y = df['target']              # create a y based on df['target']\n",
    "\n",
    "all_scores = []\n",
    "\n",
    "for i in range(100):\n",
    "    X_train, X_test, y_train, y_test = train_test_split(X, y)\n",
    "\n",
    "    model = MultinomialNB()       # create a new model\n",
    "    model.fit(X_train, y_train)   # train the model with all of our data\n",
    "\n",
    "    y_pred = model.predict(X_test)     # make a prediction\n",
    "    all_scores.append(accuracy_score(y_pred, y_test))     # was the prediction any good?\n",
    "    \n",
    "Series(all_scores).describe()"
   ]
  },
  {
   "cell_type": "code",
   "execution_count": 56,
   "metadata": {},
   "outputs": [],
   "source": [
    "# Usenet -- netnews\n",
    "# newsgroups \n",
    "\n",
    "from sklearn.datasets import fetch_20newsgroups\n",
    "newsgroups = fetch_20newsgroups()"
   ]
  },
  {
   "cell_type": "code",
   "execution_count": 57,
   "metadata": {},
   "outputs": [
    {
     "data": {
      "text/plain": [
       "5"
      ]
     },
     "execution_count": 57,
     "metadata": {},
     "output_type": "execute_result"
    }
   ],
   "source": [
    "len(newsgroups)"
   ]
  },
  {
   "cell_type": "code",
   "execution_count": 58,
   "metadata": {},
   "outputs": [
    {
     "data": {
      "text/plain": [
       "['DESCR', 'data', 'filenames', 'target', 'target_names']"
      ]
     },
     "execution_count": 58,
     "metadata": {},
     "output_type": "execute_result"
    }
   ],
   "source": [
    "dir(newsgroups)"
   ]
  },
  {
   "cell_type": "code",
   "execution_count": 59,
   "metadata": {},
   "outputs": [
    {
     "data": {
      "text/plain": [
       "[\"From: lerxst@wam.umd.edu (where's my thing)\\nSubject: WHAT car is this!?\\nNntp-Posting-Host: rac3.wam.umd.edu\\nOrganization: University of Maryland, College Park\\nLines: 15\\n\\n I was wondering if anyone out there could enlighten me on this car I saw\\nthe other day. It was a 2-door sports car, looked to be from the late 60s/\\nearly 70s. It was called a Bricklin. The doors were really small. In addition,\\nthe front bumper was separate from the rest of the body. This is \\nall I know. If anyone can tellme a model name, engine specs, years\\nof production, where this car is made, history, or whatever info you\\nhave on this funky looking car, please e-mail.\\n\\nThanks,\\n- IL\\n   ---- brought to you by your neighborhood Lerxst ----\\n\\n\\n\\n\\n\",\n",
       " \"From: guykuo@carson.u.washington.edu (Guy Kuo)\\nSubject: SI Clock Poll - Final Call\\nSummary: Final call for SI clock reports\\nKeywords: SI,acceleration,clock,upgrade\\nArticle-I.D.: shelley.1qvfo9INNc3s\\nOrganization: University of Washington\\nLines: 11\\nNNTP-Posting-Host: carson.u.washington.edu\\n\\nA fair number of brave souls who upgraded their SI clock oscillator have\\nshared their experiences for this poll. Please send a brief message detailing\\nyour experiences with the procedure. Top speed attained, CPU rated speed,\\nadd on cards and adapters, heat sinks, hour of usage per day, floppy disk\\nfunctionality with 800 and 1.4 m floppies are especially requested.\\n\\nI will be summarizing in the next two days, so please add to the network\\nknowledge base if you have done the clock upgrade and haven't answered this\\npoll. Thanks.\\n\\nGuy Kuo <guykuo@u.washington.edu>\\n\",\n",
       " 'From: twillis@ec.ecn.purdue.edu (Thomas E Willis)\\nSubject: PB questions...\\nOrganization: Purdue University Engineering Computer Network\\nDistribution: usa\\nLines: 36\\n\\nwell folks, my mac plus finally gave up the ghost this weekend after\\nstarting life as a 512k way back in 1985.  sooo, i\\'m in the market for a\\nnew machine a bit sooner than i intended to be...\\n\\ni\\'m looking into picking up a powerbook 160 or maybe 180 and have a bunch\\nof questions that (hopefully) somebody can answer:\\n\\n* does anybody know any dirt on when the next round of powerbook\\nintroductions are expected?  i\\'d heard the 185c was supposed to make an\\nappearence \"this summer\" but haven\\'t heard anymore on it - and since i\\ndon\\'t have access to macleak, i was wondering if anybody out there had\\nmore info...\\n\\n* has anybody heard rumors about price drops to the powerbook line like the\\nones the duo\\'s just went through recently?\\n\\n* what\\'s the impression of the display on the 180?  i could probably swing\\na 180 if i got the 80Mb disk rather than the 120, but i don\\'t really have\\na feel for how much \"better\" the display is (yea, it looks great in the\\nstore, but is that all \"wow\" or is it really that good?).  could i solicit\\nsome opinions of people who use the 160 and 180 day-to-day on if its worth\\ntaking the disk size and money hit to get the active display?  (i realize\\nthis is a real subjective question, but i\\'ve only played around with the\\nmachines in a computer store breifly and figured the opinions of somebody\\nwho actually uses the machine daily might prove helpful).\\n\\n* how well does hellcats perform?  ;)\\n\\nthanks a bunch in advance for any info - if you could email, i\\'ll post a\\nsummary (news reading time is at a premium with finals just around the\\ncorner... :( )\\n--\\nTom Willis  \\\\  twillis@ecn.purdue.edu    \\\\    Purdue Electrical Engineering\\n---------------------------------------------------------------------------\\n\"Convictions are more dangerous enemies of truth than lies.\"  - F. W.\\nNietzsche\\n',\n",
       " 'From: jgreen@amber (Joe Green)\\nSubject: Re: Weitek P9000 ?\\nOrganization: Harris Computer Systems Division\\nLines: 14\\nDistribution: world\\nNNTP-Posting-Host: amber.ssd.csd.harris.com\\nX-Newsreader: TIN [version 1.1 PL9]\\n\\nRobert J.C. Kyanko (rob@rjck.UUCP) wrote:\\n> abraxis@iastate.edu writes in article <abraxis.734340159@class1.iastate.edu>:\\n> > Anyone know about the Weitek P9000 graphics chip?\\n> As far as the low-level stuff goes, it looks pretty nice.  It\\'s got this\\n> quadrilateral fill command that requires just the four points.\\n\\nDo you have Weitek\\'s address/phone number?  I\\'d like to get some information\\nabout this chip.\\n\\n--\\nJoe Green\\t\\t\\t\\tHarris Corporation\\njgreen@csd.harris.com\\t\\t\\tComputer Systems Division\\n\"The only thing that really scares me is a person with no sense of humor.\"\\n\\t\\t\\t\\t\\t\\t-- Jonathan Winters\\n',\n",
       " 'From: jcm@head-cfa.harvard.edu (Jonathan McDowell)\\nSubject: Re: Shuttle Launch Question\\nOrganization: Smithsonian Astrophysical Observatory, Cambridge, MA,  USA\\nDistribution: sci\\nLines: 23\\n\\nFrom article <C5owCB.n3p@world.std.com>, by tombaker@world.std.com (Tom A Baker):\\n>>In article <C5JLwx.4H9.1@cs.cmu.edu>, ETRAT@ttacs1.ttu.edu (Pack Rat) writes...\\n>>>\"Clear caution & warning memory.  Verify no unexpected\\n>>>errors. ...\".  I am wondering what an \"expected error\" might\\n>>>be.  Sorry if this is a really dumb question, but\\n> \\n> Parity errors in memory or previously known conditions that were waivered.\\n>    \"Yes that is an error, but we already knew about it\"\\n> I\\'d be curious as to what the real meaning of the quote is.\\n> \\n> tom\\n\\n\\nMy understanding is that the \\'expected errors\\' are basically\\nknown bugs in the warning system software - things are checked\\nthat don\\'t have the right values in yet because they aren\\'t\\nset till after launch, and suchlike. Rather than fix the code\\nand possibly introduce new bugs, they just tell the crew\\n\\'ok, if you see a warning no. 213 before liftoff, ignore it\\'.\\n\\n - Jonathan\\n\\n\\n',\n",
       " 'From: dfo@vttoulu.tko.vtt.fi (Foxvog Douglas)\\nSubject: Re: Rewording the Second Amendment (ideas)\\nOrganization: VTT\\nLines: 58\\n\\nIn article <1r1eu1$4t@transfer.stratus.com> cdt@sw.stratus.com (C. D. Tavares) writes:\\n>In article <1993Apr20.083057.16899@ousrvr.oulu.fi>, dfo@vttoulu.tko.vtt.fi (Foxvog Douglas) writes:\\n>> In article <1qv87v$4j3@transfer.stratus.com> cdt@sw.stratus.com (C. D. Tavares) writes:\\n>> >In article <C5n3GI.F8F@ulowell.ulowell.edu>, jrutledg@cs.ulowell.edu (John Lawrence Rutledge) writes:\\n>\\n>> >> The massive destructive power of many modern weapons, makes the\\n>> >> cost of an accidental or crimial usage of these weapons to great.\\n>> >> The weapons of mass destruction need to be in the control of\\n>> >> the government only.  Individual access would result in the\\n>> >> needless deaths of millions.  This makes the right of the people\\n>> >> to keep and bear many modern weapons non-existant.\\n\\n>> >Thanks for stating where you\\'re coming from.  Needless to say, I\\n>> >disagree on every count.\\n\\n>> You believe that individuals should have the right to own weapons of\\n>> mass destruction?  I find it hard to believe that you would support a \\n>> neighbor\\'s right to keep nuclear weapons, biological weapons, and nerve\\n>> gas on his/her property.  \\n\\n>> If we cannot even agree on keeping weapons of mass destruction out of\\n>> the hands of individuals, can there be any hope for us?\\n\\n>I don\\'t sign any blank checks.\\n\\nOf course.  The term must be rigidly defined in any bill.\\n\\n>When Doug Foxvog says \"weapons of mass destruction,\" he means CBW and\\n>nukes.  When Sarah Brady says \"weapons of mass destruction\" she means\\n>Street Sweeper shotguns and semi-automatic SKS rifles.  \\n\\nI doubt she uses this term for that.  You are using a quote allegedly\\nfrom her, can you back it up?\\n\\n>When John\\n>Lawrence Rutledge says \"weapons of mass destruction,\" and then immediately\\n>follows it with:\\n\\n>>> The US has thousands of people killed each year by handguns,\\n>>> this number can easily be reduced by putting reasonable restrictions\\n>>> on them.\\n\\n>...what does Rutledge mean by the term?\\n\\nI read the article as presenting first an argument about weapons of mass\\ndestruction (as commonly understood) and then switching to other topics.\\nThe first point evidently was to show that not all weapons should be\\nallowed, and then the later analysis was, given this understanding, to\\nconsider another class.\\n\\n>cdt@rocket.sw.stratus.com   --If you believe that I speak for my company,\\n>OR cdt@vos.stratus.com        write today for my special Investors\\' Packet...\\n\\n\\n\\n-- \\ndoug foxvog\\ndouglas.foxvog@vtt.fi\\n',\n",
       " 'From: bmdelane@quads.uchicago.edu (brian manning delaney)\\nSubject: Brain Tumor Treatment (thanks)\\nReply-To: bmdelane@midway.uchicago.edu\\nOrganization: University of Chicago\\nLines: 12\\n\\nThere were a few people who responded to my request for info on\\ntreatment for astrocytomas through email, whom I couldn\\'t thank\\ndirectly because of mail-bouncing probs (Sean, Debra, and Sharon).  So\\nI thought I\\'d publicly thank everyone.\\n\\nThanks! \\n\\n(I\\'m sure glad I accidentally hit \"rn\" instead of \"rm\" when I was\\ntrying to delete a file last September. \"Hmmm... \\'News?\\' What\\'s\\nthis?\"....)\\n\\n-Brian\\n',\n",
       " 'From: bgrubb@dante.nmsu.edu (GRUBB)\\nSubject: Re: IDE vs SCSI\\nOrganization: New Mexico State University, Las Cruces, NM\\nLines: 44\\nDistribution: world\\nNNTP-Posting-Host: dante.nmsu.edu\\n\\nDXB132@psuvm.psu.edu writes:\\n>In article <1qlbrlINN7rk@dns1.NMSU.Edu>, bgrubb@dante.nmsu.edu (GRUBB) says:\\n>>In PC Magazine April 27, 1993:29 \"Although SCSI is twice as fasst as ESDI,\\n>>20% faster than IDE, and support up to 7 devices its acceptance ...has   \\n>>long been stalled by incompatability problems and installation headaches.\"\\n                                                                      \\n>I love it when magazine writers make stupid statements like that re:      \\n>performance. Where do they get those numbers? I\\'ll list the actual\\n>performance ranges, which should convince anyone that such a               \\n>statement is absurd:                                                     \\n>SCSI-I ranges from 0-5MB/s.                                                \\n>SCSI-II ranges from 0-40MB/s.            \\n>IDE ranges from 0-8.3MB/s.                          \\n>ESDI is always 1.25MB/s (although there are some non-standard versions)\\nALL this shows is that YOU don\\'t know much about SCSI.\\n\\nSCSI-1 {with a SCSI-1 controler chip} range is indeed 0-5MB/s\\nand that is ALL you have right about SCSI\\nSCSI-1 {With a SCSI-2 controller chip}: 4-6MB/s with 10MB/s burst {8-bit}\\n Note the INCREASE in SPEED, the Mac Quadra uses this version of SCSI-1\\n so it DOES exist. Some PC use this set up too.\\nSCSI-2 {8-bit/SCSI-1 mode}:          4-6MB/s with 10MB/s burst\\nSCSI-2 {16-bit/wide or fast mode}:  8-12MB/s with 20MB/s burst\\nSCSI-2 {32-bit/wide AND fast}:     15-20MB/s with 40MB/s burst\\n \\nBy your OWN data the \"Although SCSI is twice as fast as ESDI\" is correct\\nWith a SCSI-2 controller chip SCSI-1 can reach 10MB/s which is indeed\\n\"20% faster than IDE\" {120% of 8.3 is 9.96}. ALL these SCSI facts have been\\nposted to this newsgroup in my Mac & IBM info sheet {available by FTP on \\nsumex-aim.stanford.edu (36.44.0.6) in the info-mac/report as \\nmac-ibm-compare[version #].txt (It should be 173 but 161 may still be there)}\\n\\nPart of this problem is both Mac and IBM PC are inconsiant about what SCSI\\nis which.  Though it is WELL documented that the Quadra has a SCSI-2 chip\\nan Apple salesperson said \"it uses a fast SCSI-1 chip\" {Not at a 6MB/s,\\n10MB/s burst it does not. SCSI-1 is 5MB/s maximum synchronous and Quadra\\nuses ANsynchronous SCSI which is SLOWER}  It seems that Mac and IBM see\\nSCSI-1 interface and think \\'SCSI-1\\' when it maybe a SCSI-1 interface driven\\nin the machine by a SCSi-2 controller chip in 8-bit mode {Which is MUCH\\nFASTER then true SCSI-1 can go}.\\n\\nDon\\'t slam an article because you don\\'t understand what is going on.\\nOne reference for the Quadra\\'s SCSI-2 controller chip is \\n(Digital Review, Oct 21, 1991 v8 n33 p8(1)).\\n',\n",
       " 'From: holmes7000@iscsvax.uni.edu\\nSubject: WIn 3.0 ICON HELP PLEASE!\\nOrganization: University of Northern Iowa\\nLines: 10\\n\\nI have win 3.0 and downloaded several icons and BMP\\'s but I can\\'t figure out\\nhow to change the \"wallpaper\" or use the icons.  Any help would be appreciated.\\n\\n\\nThanx,\\n\\n-Brando\\n\\nPS Please E-mail me\\n\\n',\n",
       " \"From: kerr@ux1.cso.uiuc.edu (Stan Kerr)\\nSubject: Re: Sigma Designs Double up??\\nArticle-I.D.: ux1.C52u8x.B62\\nOrganization: University of Illinois at Urbana\\nLines: 29\\n\\njap10@po.CWRU.Edu (Joseph A. Pellettiere) writes:\\n\\n\\n>\\tI am looking for any information about the Sigma Designs\\n>\\tdouble up board.  All I can figure out is that it is a\\n>\\thardware compression board that works with AutoDoubler, but\\n>\\tI am not sure about this.  Also how much would one cost?\\n\\nI've had the board for over a year, and it does work with Diskdoubler,\\nbut not with Autodoubler, due to a licensing problem with Stac Technologies,\\nthe owners of the board's compression technology. (I'm writing this\\nfrom memory; I've lost the reference. Please correct me if I'm wrong.)\\n\\nUsing the board, I've had problems with file icons being lost, but it's\\nhard to say whether it's the board's fault or something else; however,\\nif I decompress the troubled file and recompress it without the board,\\nthe icon usually reappears. Because of the above mentioned licensing\\nproblem, the freeware expansion utility DD Expand will not decompress\\na board-compressed file unless you have the board installed.\\n\\nSince Stac has its own product now, it seems unlikely that the holes\\nin Autodoubler/Diskdoubler related to the board will be fixed.\\nWhich is sad, and makes me very reluctant to buy Stac's product since\\nthey're being so stinky. (But hey, that's competition.)\\n-- \\n\\nStan Kerr    \\nComputing & Communications Services Office, U of Illinois/Urbana\\nPhone: 217-333-5217  Email: stankerr@uiuc.edu   \\n\",\n",
       " 'From: irwin@cmptrc.lonestar.org (Irwin Arnstein)\\nSubject: Re: Recommendation on Duc\\nSummary: What\\'s it worth?\\nDistribution: usa\\nExpires: Sat, 1 May 1993 05:00:00 GMT\\nOrganization: CompuTrac Inc., Richardson TX\\nKeywords: Ducati, GTS, How much? \\nLines: 13\\n\\nI have a line on a Ducati 900GTS 1978 model with 17k on the clock.  Runs\\nvery well, paint is the bronze/brown/orange faded out, leaks a bit of oil\\nand pops out of 1st with hard accel.  The shop will fix trans and oil \\nleak.  They sold the bike to the 1 and only owner.  They want $3495, and\\nI am thinking more like $3K.  Any opinions out there?  Please email me.\\nThanks.  It would be a nice stable mate to the Beemer.  Then I\\'ll get\\na jap bike and call myself Axis Motors!\\n\\n-- \\n-----------------------------------------------------------------------\\n\"Tuba\" (Irwin)      \"I honk therefore I am\"     CompuTrac-Richardson,Tx\\nirwin@cmptrc.lonestar.org    DoD #0826          (R75/6)\\n-----------------------------------------------------------------------\\n',\n",
       " 'From: david@terminus.ericsson.se (David Bold)\\nSubject: Re: Question for those with popular morality\\nReply-To: david@terminus.ericsson.se\\nDistribution: world\\nOrganization: Camtec Electronics (Ericsson), Leicester, England\\nLines: 77\\nNntp-Posting-Host: bangkok\\n\\nIn article 17570@freenet.carleton.ca, ad354@Freenet.carleton.ca (James Owens) writes:\\n>\\n>In a previous article, david@terminus.ericsson.se (David Bold) says:\\n>\\n>>\\n>>I don\\'t mean to be rude, but I think that you\\'ve got hold of the wrong\\n>>end of a different stick...\\n>>\\n>>David\\n>\\n>I had a look at your posting again and I see what you mean!  I was so\\n>intent on explaining how Jung thought we could be more moral than God that\\n>I overlooked your main line of thought.\\n>\\n>You seem to be saying that, God being unknowable, His morality is unknowable.\\n\\nYep, that\\'s pretty much it. I\\'m not a Jew but I understand that this is the\\nJewish way of thinking. However, the Jews believe that the Covenant between\\nYHWH and the Patriarchs (Abraham and Moses, in this case) establishes a Moral\\nCode to follow for mankind. Even the Jews could not decide where the boundaries\\nfall, though.\\n\\nAs I understand it, the Sadducees believed that the Torah was all that was\\nrequired, whereas the Pharisees (the ancestors of modern Judaism) believed that\\nthe Torah was available for interpretation to lead to an understanding of\\nthe required Morality in all its nuances (->Talmud).\\n\\nThe essence of all of this is that Biblical Morality is an interface between\\nMan and YHWH (for a Jew or Christian) and does not necessarily indicate\\nanything about YHWH outside of that relationship (although one can speculate).\\n\\n>\\n>The first thing that comes to mind is that man is supposed to be created\\n>in His image, so there is an argument that we are committed to whatever\\n>moral code He follows as part of trying to live up to that image.  If we\\n>are supposed to live by Christ\\'s example, you would be hard pressed to\\n>argue that God is a \"do what I say, not what I do\" kind of guy.\\n\\nThe trouble with all of this is that we don\\'t really know what the \"created\\nin His image\" means. I\\'ve heard a number of different opinions on this and\\nhave still not come to any conclusion. This rather upsets the Apple Cart if\\none wants to base a Life Script on this shaky foundation (to mix metaphors\\nunashamedly!) As to living by Christ\\'s example, we know very little about\\nJesus as a person. We only have his recorded utterances in a set of narratives\\nby his followers, and some very small references from comtemporary historians.\\nRevelation aside, one can only \"know\" Christ second-hand or worse.\\n\\nThis is not an attempt to debunk Christianity (although it may seem that way\\ninitially), the point I`m trying to make is that we only really have the Bible\\nto interpret, and that interpretation is by humanity. I guess this is where\\nFaith or Relevation comes in with all its inherent subjectiveness.\\n\\n>\\n>Metaphysically, if there are multiple moral codes then there is no\\n>Absolute moral code, and I think this is theologically questionable.\\n\\nNo. There may be an absolute moral code. There are undoubtably multiple\\nmoral codes. The multiple moral codes may be founded in the absolute moral\\ncode. As an example, a parent may tell a child never to swear, and the child\\nmay assume that the parent never swears simply because the parent has told\\nthe child that it is \"wrong\". Now, the parent may swear like a trooper in\\nthe pub or bar (where there are no children). The \"wrongness\" here is if\\nthe child disobeys the parent. The parent may feel that it is \"inappropriate\"\\nto swear in front of children but may be quite happy to swear in front of\\nanimals. The analogy does not quite hold water because the child knows that\\nhe is of the same type as the parent (and may be a parent later in life) but\\nyou get the gist of it? Incidentally, the young child considers the directive\\nas absolute until he gets older (see Piaget) and learns a morality of his own.\\n\\nDavid.\\n\\n---\\nOn religion:\\n\\n\"Oh, where is the sea?\", the fishes cried,\\nAs they swam its clearness through.\\n\\n',\n",
       " 'From: rodc@fc.hp.com (Rod Cerkoney)\\nSubject: *$G4qxF,fekVH6\\nNntp-Posting-Host: hpfcmrc.fc.hp.com\\nOrganization: Hewlett Packard, Fort Collins, CO\\nX-Newsreader: TIN [version 1.1 PL8.5]\\nLines: 15\\n\\n\\n\\n--\\n\\n\\nRegards,\\nRod Cerkoney\\n                                                        /\\\\\\n______________________________________________         /~~\\\\\\n                                                      /    \\\\\\n  Rod Cerkoney MS 37     email:                      /      \\\\ \\n  Hewlett Packard         rodc@fc.hp.com        /\\\\  /        \\\\  \\n  3404 East Harmony Rd.  Hpdesk:               /  \\\\/          \\\\    /\\\\\\n  Fort Collins, CO 80525  HP4000/UX           /    \\\\           \\\\  /  \\\\\\n_____________________________________________/      \\\\           \\\\/    \\\\__\\n',\n",
       " 'From: dbm0000@tm0006.lerc.nasa.gov (David B. Mckissock)\\nSubject: Re: Space Station Redesign, JSC Alternative #4\\nOrganization: NASA Lewis Research Center / Cleveland, Ohio\\nLines: 102\\nDistribution: world\\nNNTP-Posting-Host: tm0006.lerc.nasa.gov\\nNews-Software: VAX/VMS VNEWS 1.41    \\n\\nIn article <1993Apr23.184732.1105@aio.jsc.nasa.gov>, kjenks@gothamcity.jsc.nasa.gov writes...\\n\\n   {Description of \"External Tank\" option for SSF redesign deleted}\\n\\n>Mark proposed this design at Joe Shea\\'s committee in Crystal City,\\n>and he reports that he was warmly received.  However, the rumors\\n>I hear say that a design based on a wingless Space Shuttle Orbiter\\n>seems more likely.\\n\\nYo Ken, let\\'s keep on-top of things! Both the \"External Tank\" and\\n\"Wingless Orbiter\" options have been deleted from the SSF redesign\\noptions list. Today\\'s (4/23) edition of the New York Times reports\\nthat O\\'Connor told the panel that some redesign proposals have\\nbeen dropped, such as using the \"giant external fuel tanks used\\nin launching space shuttles,\" and building a \"station around\\nan existing space shuttle with its wings and tail removed.\"\\n\\nCurrently, there are three options being considered, as presented\\nto the advisory panel meeting yesterday (and as reported in\\ntoday\\'s Times).\\n\\nOption \"A\" - Low Cost Modular Approach\\nThis option is being studied by a team from MSFC. {As an aside,\\nthere are SSF redesign teams at MSFC, JSC, and LaRC supporting\\nthe SRT (Station Redesign Team) in Crystal City. Both LeRC and\\nReston folks are also on-site at these locations, helping the respective\\nteams with their redesign activities.} Key features of this\\noption are:\\n  -  Uses \"Bus-1\", a modular bus developed by Lockheed that\\'s\\n     qualified for STS and ELV\\'s. The bus provides propulsion, GN&C\\n     Communications, & Data Management. Lockheed developed this\\n     for the Air Force.\\n  -  A \"Power Station Capability\" is obtained in 3 Shuttle Flights.\\n     SSF Solar arrays are used to provide 20 kW of power. The vehicle\\n     flies in an \"arrow mode\" to optimize the microgravity environment.\\n     Shuttle/Spacelab missions would utilize the vehilce as a power\\n     source for 30 day missions.\\n  -  Human tended capability (as opposed to the old SSF sexist term\\n     of man-tended capability) is achieved by the addition of the\\n     US Common module. This is a modified version of the existing\\n     SSF Lab module (docking ports are added for the International\\n     Partners\\' labs, taking the place of the nodes on SSF). The\\n     Shuttle can be docked to the station for 60 day missions.\\n     The Orbiter would provide crew habitability & EVA capability.\\n  -  International Human Tended. Add the NASDA & ESA modules, and\\n     add another 20 kW of power\\n  -  Permanent Human Presence Capability. Add a 3rd power module,\\n     the U.S. habitation module, and an ACRV (Assured Crew Return\\n     Vehicle).\\n\\nOption \"B\" - Space Station Freedom Derived\\nThe Option \"B\" team is based at LaRC, and is lead by Mike Griffin.\\nThis option looks alot like the existing SSF design, which we\\nhave all come to know and love :)\\n\\nThis option assumes a lightweight external tank is available for\\nuse on all SSF assembly flights (so does option \"A\"). Also, the \\nnumber of flights is computed for a 51.6 inclination orbit,\\nfor both options \"A\" and \"B\".\\n\\nThe build-up occurs in six phases:\\n  -  Initial Research Capability reached after 3 flights. Power\\n     is transferred from the vehicle to the Orbiter/Spacelab, when\\n     it visits.\\n  -  Man-Tended Capability (Griffin has not yet adopted non-sexist\\n     language) is achieved after 8 flights. The U.S. Lab is\\n     deployed, and 1 solar power module provides 20 kW of power.\\n  -  Permanent Human Presence Capability occurs after 10 flights, by\\n     keeping one Orbiter on-orbit to use as an ACRV (so sometimes\\n     there would be two Orbiters on-orbit - the ACRV, and the\\n     second one that comes up for Logistics & Re-supply).\\n  -  A \"Two Fault Tolerance Capability\" is achieved after 14 flights,\\n     with the addition of a 2nd power module, another thermal\\n     control system radiator, and more propulsion modules.\\n  -  After 20 flights, the Internationals are on-board. More power,\\n     the Habitation module, and an ACRV are added to finish the\\n     assembly in 24 flights.\\n\\nMost of the systems currently on SSF are used as-is in this option, \\nwith the exception of the data management system, which has major\\nchanges.\\n\\nOption C - Single Core Launch Station.\\nThis is the JSC lead option. Basically, you take a 23 ft diameter\\ncylinder that\\'s 92 ft long, slap 3 Space Shuttle Main Engines on\\nthe backside, put a nose cone on the top, attached it to a \\nregular shuttle external tank and a regular set of solid rocket\\nmotors, and launch the can. Some key features are:\\n  - Complete end-to-end ground integration and checkout\\n  - 4 tangentially mounted fixed solar panels\\n  - body mounted radiators (which adds protection against\\n    micrometeroid & orbital debris)\\n  - 2 centerline docking ports (one on each end)\\n  - 7 berthing ports\\n  - a single pressurized volume, approximately 26,000 cubic feet\\n    (twice the volume of skylab).\\n  - 7 floors, center passageway between floors\\n  - 10 kW of housekeeping power\\n  - graceful degradation with failures (8 power channels, 4 thermal\\n    loops, dual environmental control & life support system)\\n  - increased crew time for utilization\\n  - 1 micro-g thru out the core module\\n',\n",
       " \"From: jllee@acsu.buffalo.edu (Johnny L Lee)\\nSubject: RE:  == MOVING SALE ===\\nSummary: RE:  === MOVING SALE ===\\nOrganization: UB\\nLines: 44\\nNntp-Posting-Host: lictor.acsu.buffalo.edu\\n\\nReduced Prices! \\nI have a list of things forsale on behalf of my brother, who's moving (moved\\nalready)\\n\\n\\t\\t\\t\\t\\t\\t\\t\\tOffer:\\n1) Black and Decker Duster Plus (Portable Hand Vaccum)\\t\\n \\tpurchased for $32, \\t\\t\\t\\t\\t  $12\\n\\n2) SR-1000 Dual Cassette Portable Player, AM/FM\\n5-Band graphics Equalizer, high speed dubing, Duo \\nTape.Tape deck A, seems to have lost treble sound. \\nBut, I bet  it's fixable.\\n\\tpurchased for $80\\t\\t\\t\\t\\t  $25\\n\\n3)Monolux Zoom MicroScope, up to 1200X magnification\\nMade in Japan, includes case and accessories\\n\\tpurchased for $50\\t\\t\\t\\t\\t  $20\\n\\n4)Sunbeam 1400 Hair Dryer, the dryer you put your \\nhead under/into. You know, the ones you see in the salons.\\n(Don't ask me why my bro had it)\\n\\tpurchased for $60\\t\\t\\t\\t          $24\\n\\n5)Everylast Speed Bag, all leather. Brand new, never \\nused\\t\\t\\t\\t\\t\\t\\t\\t  $10\\n\\n6)Osterizer Pusle Matic Blender, with 10 speeds \\nand a cookbook, 5 years old\\t\\t\\t\\t\\t  $10\\n\\tpurchased for $50\\n\\n8)Binolux Binoculars . 7x35, extra wide angle\\n525ft. at 1000yds. with case. very new.\\t\\t                  $20\\n\\n9)Proctor and Silex Spray,Steam and Dry Iron.\\nvery new.\\t\\t\\t\\t\\t\\t\\t  $10\\n\\n\\nAny questions, contact me thru e-mail and I will reply expeditously\\nAnd always, S+H are not included, so please consider this.\\n\\nAnd lastly, I'm a very reasonable.Very Reasonable.\\n\\n\\t\\t\\t\\t\\tThanks,\\n\\t\\t\\t\\t\\t\\tJohn\\n\",\n",
       " 'From: mathew <mathew@mantis.co.uk>\\nSubject: Re: <Political Atheists?\\nOrganization: Mantis Consultants, Cambridge. UK.\\nX-Newsreader: rusnews v1.01\\nLines: 22\\n\\nkmr4@po.CWRU.edu (Keith M. Ryan) writes:\\n> ( I am almost sure that Zyklon-B is immediate and painless method of \\n> death. If not, insert soem other form. )\\n> \\n>         And, ethnic and minority groups have been killed, mutilated and \\n> exterminated through out history, so I guess it was not unusual.\\n> \\n>         So, you would agree that the holocost would be allowed under the US \\n> Constitution?  [ in so far, the punishment. I doubt they recieved what would \\n> be considered a \"fair\" trial by US standards.\\n\\nDon\\'t be so sure.  Look what happened to Japanese citizens in the US during\\nWorld War II.  If you\\'re prepared to say \"Let\\'s round these people up and\\nstick them in a concentration camp without trial\", it\\'s only a short step to\\ngassing them without trial.  After all, it seems that the Nazis originally\\nonly intended to imprison the Jews; the Final Solution was dreamt up partly\\nbecause they couldn\\'t afford to run the camps because of the devastation\\ncaused by Goering\\'s Total War.  Those who weren\\'t gassed generally died of\\nmalnutrition or disease.\\n\\n\\nmathew\\n',\n",
       " 'From: ab@nova.cc.purdue.edu (Allen B)\\nSubject: Re: TIFF: philosophical significance of 42\\nOrganization: Purdue University\\nLines: 39\\n\\nIn article <prestonm.735400848@cs.man.ac.uk> prestonm@cs.man.ac.uk (Martin  \\nPreston) writes:\\n> Why not use the PD C library for reading/writing TIFF files? It took me a\\n> good 20 minutes to start using them in your own app.\\n\\nI certainly do use it whenever I have to do TIFF, and it usually works\\nvery well.  That\\'s not my point.  I\\'m >philosophically< opposed to it\\nbecause of its complexity.\\n\\nThis complexity has led to some programs\\' poor TIFF writers making\\nsome very bizarre files, other programs\\' inability to load TIFF\\nimages (though they\\'ll save them, of course), and a general\\ninability to interchange images between different environments\\ndespite the fact they all think they understand TIFF.\\n\\nAs the saying goes, \"It\\'s not me I\\'m worried about- it\\'s all the\\n>other<  assholes out there!\"  I\\'ve had big trouble with misuse and\\nabuse of TIFF over the years, and I chalk it all up to the immense (and\\nunnecessary) complexity of the format.\\n\\nIn the words of the TIFF 5.0 spec, Appendix G, page G-1 (capitalized\\nemphasis mine):\\n\\n\"The only problem with this sort of success is that TIFF was designed\\nto be powerful and flexible, at the expense of simplicity.  It takes a\\nfair amount of effort to handle all the options currently defined in\\nthis specification (PROBABLY NO APPLICATION DOES A COMPLETE JOB),\\nand that is currently the only way you can be >sure< that you will be\\nable to import any TIFF image, since there are so many\\nimage-generating applications out there now.\"\\n\\n\\nIf a program (or worse all applications) can\\'t read >every< TIFF\\nimage, that means there are some it won\\'t- some that I might have to\\ndeal with.  Why would I want my images to be trapped in that format?  I\\ndon\\'t and neither should anyone who agrees with my reasoning- not\\nthat anyone does, of course! :-)\\n\\nab\\n',\n",
       " 'From: CPKJP@vm.cc.latech.edu (Kevin Parker)\\nSubject: Insurance Rates on Performance Cars SUMMARY\\nOrganization: Louisiana Tech University\\nLines: 244\\nNNTP-Posting-Host: vm.cc.latech.edu\\nX-Newsreader: NNR/VM S_1.3.2\\n\\n     I recently posted an article asking what kind of rates single, male\\ndrivers under 25 yrs old were paying on performance cars. Here\\'s a summary of\\nthe replies I received.\\n \\n \\n \\n \\n-------------------------------------------------------------------------------\\n \\nI\\'m not under 25 anymore (but is 27 close enough).\\n \\n1992 Dodge Stealth RT/Twin Turbo (300hp model).\\nNo tickets, no accidents, own a house, have taken defensive driving 1,\\nairbag, abs, security alarm, single.\\n \\n$1500/year  $500 decut. State Farm Insurance (this includes the additional $100\\nfor the $1,000,000 umbrella policy over my car and house)  The base\\npolicy is the standard $100,000 - $100,000 - $300,000 policy required in DE.\\n \\nAfter 2nd defensive driving course it will be 5% less.\\n \\nI bought the car in September 1992.  The company I was with (never had\\nand accident or ticket in 11 years) quoted me $2,500.\\n \\nHope this helps.\\n \\nSteve Flynn\\nUniversity of Delaware\\n======================================================================== 45\\n \\n    Kevin:\\n \\n    (Hope I remembered your name correctly)...\\n \\n    You asked about insurance for performance cars.  Well, last year\\n    I was in a similar situation before I bought my car, and made the\\n    same inquiry as you.\\n \\n    Age: 24 (then and now)\\n    Car: 1992 Eagle Talon TSi AWD\\n    Driving Record: Clean\\n    State: Illinois\\n    Cost: $820/6 mos.\\n \\n    I turn 25 in May and the insurance goes down to $520/6 mos.\\n    Also, I\\'m single and that incurs a higher rate with my company.\\n \\n    I\\'ve got a couple other friends w/ AWDs and they pay more\\n    than I do (different ins. companies also), so maybe I\\'m just lucky.\\n \\n    Hope the info helps.\\n \\n    Dan\\n    [dans@jdc.gss.mot.com]\\n    Motorola Cellular Subscriber Group\\n \\n======================================================================== 38\\n USA\\nCc:\\n \\nI\\'m 23; live in Norman, Oklahoma; drive an \\'89 Thunderbird SC; have\\nnever made a claim against my insurance (though I have been hit\\nseveral times by negligent drivers who couldn\\'t see stop signs or\\nwere fiddling with their radios); and I have had three moving violations\\nin the last 18 months (one for going 85 in a 55; one for \"failure to\\nclear an intersection\" (I still say the damn light was yellow); and\\none for going 35 in a 25 (which didn\\'t go on my record)). My rates\\nfrom State Farm (with a passive restraint deduction) on liability,\\n$500 deductible comprehensive, and $500 deductible collision are\\nroughly $1300/year. (I was paying just over $1100/year for a \\'92 Escort LX.)\\n \\n\\t\\t\\t\\tJames\\n \\nJames P. Callison    Microcomputer Coordinator, U of Oklahoma Law Center\\nCallison@uokmax.ecn.uoknor.edu   /\\\\    Callison@aardvark.ucs.uoknor.edu\\nDISCLAIMER: I\\'m not an engineer, but I play one at work...\\n\\t\\tThe forecast calls for Thunder...\\'89 T-Bird SC\\n   \"It\\'s a hell of a thing, killing a man. You take away all he has\\n\\tand all he\\'s ever gonna have.\"\\n\\t\\t\\t--Will Munny, \"Unforgiven\"\\n======================================================================== 61\\n \\nI am beyond the \"under 25\" age group, but I have an experience a few\\nyears ago that might be interesting to you.  I owned a 1985 Toyota Celica\\nGT.  I decided to buy myself a gift - a more exotic car.  Front runners\\nincluded the Toyota Supra Turbo and the Porsche 924 (1987 model years).\\nI narrowed it down to those two.  I liked the simplicity and handling\\n(and snob appeal, too) of driving a Porsche.  The Supra Turbo was less\\nmoney and had more features and performance - almost a personal luxury\\ncar.  It had better acceleration and a higher top speed than the 924.\\nI was almost ready to give in to a buying impulse for the 924, but i\\ndecided to stop by my insurance agent\\'s office on the way.  I asked\\nabout what would happen to my rate with either car.\\n \\n\"If you buy the Supra, your rate classification will be the same as\\nthe Celica (the \\'85 Celica was considered a subcompact and for that\\nyear was rated as one of the safest cars), with a slight increase because\\nthe car will be 2 years newer.  Our lower-risk division will continue\\nto handle your account.\\n \\n\"If you buy the Porsche 924, we\\'ll have to change you to the standard\\n[higher] rate company and your rate will double.  And if you go with\\na 944, it\\'s another story again - we\\'ll cover the rest of this year,\\nbut cancel you after that.\"\\n \\n\"But the Supra is much faster than the 924, and the 924 is actually\\nfaster than the [standard] 944.  That doens\\'t make sense.\"\\n \\n That\\'s what the book says.  We don\\'t insure Corvettes, either.  For\\nsome reason, the underwriters consider Supras - and their drivers -\\nas very traditional and conservative.\"\\n \\nI eventually went with the Supra for a number of reasons.  The Porsche\\ndealer had a nice salesman to get me interested, but a tough high-pressure\\nguy in the back room.  At equal monthly payments, it would have taken\\na year longer to pay for the Porsche, plus its higher insurance.  I\\nconcluded that the high insurance was related to probability of auto\\ntheft.\\n \\n   /|/| /||)|/  /~ /\\\\| |\\\\|)[~|)/~   |   Everyone\\'s entitled to MY opinion.\\n  / | |/ ||\\\\|\\\\  \\\\_|\\\\/|_|/|)[_|\\\\\\\\_|  |      goldberg@oasys.dt.navy.mil\\n========Imagination is more important than knowledge. - Albert Einstein=======\\n \\n \\n \\n \\n \\n======================================================================== 32\\n \\nI live in Idaho.  When I was <26 many years ago (10 years) I bought a Trans\\nAm (new).  Insurance was about $1300/year.  When I turned 26, it immediately\\ndropped to $460/year.  I had not had any accidents before or after, this was\\nstrictly an age change.  That same rate stayed pretty much the same until I\\nsold the car 2 years ago.  My F-150 pickup is about $80/year less.\\n \\nThe real amazing thing is that when I woke up at age 25, I felt SO MUCH MORE\\nRESPONSIBLE than I was before...  :-)\\n \\nWes\\n \\n======================================================================== 21\\n \\n \\nFor your information:\\nCalifornia\\nMale, single, under 25 , No moving violation\\nAlfa Spider\\n     =======> $2000 / year\\n \\nWhat a bargain!!!\\n======================================================================== 28\\n \\nLet\\'s see, I\\'m 24, single, male, clean driving record. I have a 92 VW COrrado\\nVR6. I live in San Jose, California. I pay ~1500$ a year through Allstate. A\\ngood deal if you ask me.\\n \\nI was thinking about getting a Talon, but I think the insurance is higher\\nfor a \"turbo\" sports car vs a V6\\n \\n-W\\n \\n======================================================================== 27\\n \\n1986 Honda CRX Si, clean record, in a small New Mexico town was around $800\\nper year, age 24.\\n \\nNearby city rates were 1.5X-2X higher than where I\\'ve got mine insured.\\n \\n..robert\\n--\\nRobert Stack / Institute of Transportation Studies, Univ of California-Irvine\\n               stack@translab.its.uci.edu   \\'92 Mazda Protege LX\\n======================================================================== 37\\n1300 per year, 1992 Saturn SC, 21 Years old, State: New Mexico,\\nInsurance: State Farm.\\n \\n \\n======================================================================== 64\\n \\n \\nHere is my info:\\n \\nCar             : \\'89 Toyota Celica ST\\nInsurance Co    : Farmer\\'s Insurance\\nYearly insurance: $2028\\nAge             : 24\\nDate of license : Oct 14, 1992\\nResidence       : Mountain View, California\\nNo moving violations (for now atleast ;-)\\n \\nHope this helps. Please post a summary if possible.\\n \\nVijay\\n**********************************************************************\\nVijay Anisetti\\nEmail: anisetti@informix.com   Apt: (415)962-0320   Off: (415)926-6547\\n======================================================================== 38\\nSingle, 24 years old, Eagle Talon Turbo AWD, $1200 (full-cover, reasonable\\n liability)\\nNo tickets, No violations, No accidents... (knock on wood...)\\nMass,\\n \\n\\tOne thing that makes a HUGE difference in MASS is the town you live in.\\nI\\'m personally in one of the best towns within reasonable distance\\nof Boston.  If I moved to the absolute best it would go down to about\\n$1150, if I moved to the worst it would be $2000+..\\n \\n\\tAlso one accident and a couple of tickets, would probably add another $600...\\n \\n \\n\\t_RV\\n \\n \\n======================================================================== 43\\nI have a 1990 Mitsubishi eclipse turbo awd, am 23 years old and have no\\ntickets that went on my record.  I live in Illinois just outside of Chicago\\nand pay $1560 a year with full coverage at State Farm.  I did get a small\\ndiscount because of my alarm system($30 a year).  I only live 15 miles from\\nChicago but if I actually lived in the city the price would be about $2000\\na year.\\n======================================================================== 41\\nI\\'m over 25, but in case you\\'re interested anyway, I\\'m insuring a 93 SHO\\nfor $287/6 month.  Thats 100k personal+300k total+100k property with\\n250 deductible, glass and towing, State Farm.\\n \\n======================================================================== 39\\n \\nUnless you are under 20 or have been driving for less than 5\\nyears, I think you are being seriously ripped off.  I don\\'t have\\none of the performance cars you listed, but if your record is\\nclean, then you should not be paying over $2K.\\n \\nDid you try calling all the insurance dealers you could find?\\nAlthough rates are supposed to be standardized, I\\'ve found that\\nmost places I initially call, give me some ridiculously high\\nquote and *finaly*, I hit one that is much lower.\\n \\nAlso, I have changed insurance companies when the rate went up at\\nrenewal (no accidents, tickets, car gets older??) to maintain a low\\nrate.  You always have to be careful when it comes to insurance\\ncompanies 8^).\\n \\nGood luck,\\nSerge\\n',\n",
       " 'From: ritley@uimrl7.mrl.uiuc.edu ()\\nSubject: SEEKING THERMOCOUPLE AMPLIFIER CIRCUIT\\nReply-To: ritley@uiucmrl.bitnet ()\\nOrganization: Materials Research Lab\\nLines: 17\\n\\n\\n\\nI would like to be able to amplify a voltage signal which is\\noutput from a thermocouple, preferably by a factor of\\n100 or 1000 ---- so that the resulting voltage can be fed\\nmore easily into a personal-computer-based ADC data\\nacquisition card.\\n\\nMight anyone be able to point me to references to such\\ncircuits?  I have seen simple amplifier circuits before, but\\nI am not sure how well they work in practice.\\n\\nIn this case, I\\'d like something which will amplify sufficiently\\n\"nicely\" to be used for thermocouples (say, a few degrees\\naccuracy or better).\\n\\nAny pointers would be greatly appreciated!\\n',\n",
       " 'From: abarden@tybse1.uucp (Ann Marie Barden)\\nSubject: X-Terminal Config. file question\\nOrganization: Tybrin Corporation, Shalimar, FL\\nDistribution: usa\\nLines: 19\\n\\n  QUESTION:\\n  What is the EXACT entry (parameter and syntax please), in the X-Terminal\\nconfiguration file (loaded when the X-Terminal boots), to add another system \\nto the TCP/IP access control list?   \\n\\n  BACKGROUND:\\n  I have two unix systems, 1. an AT&T 3B2 running X11R3 and MIT\\'s X11R4 and \\n2. a Sun SS10 without any X.  \\n  I want to have a window to the Sun and the 3B2 on the NCD X-Terminal at the\\nsame time.  I can do this if I manually set the Network Parameter TCP/IP\\nAccess Control List to off, then login to my telnet session. Not Great!  \\n  I\\'ve tried to get \"xhost\" to work and failed.  Either my syntax is wrong\\nor the X11R3 implementation is bogus.  \\n  I am trying to edit the NCD configuration file that is loaded when the \\nNCD boots.  No matter what entry I add or edit, the NCD still boots with\\nthe TCP/IP Access Control list containing only the 3B2.\\n  My manuals are worthless so any help would be most appreciated!!  Thanks!\\n\\nAnn Marie Barden  \\tabarden@afseo.eglin.af.mil\\n']"
      ]
     },
     "execution_count": 59,
     "metadata": {},
     "output_type": "execute_result"
    }
   ],
   "source": [
    "newsgroups['data'][:20]"
   ]
  },
  {
   "cell_type": "code",
   "execution_count": 61,
   "metadata": {},
   "outputs": [
    {
     "data": {
      "text/plain": [
       "array([ 7,  4,  4,  1, 14, 16, 13,  3,  2,  4,  8, 19,  4, 14,  6,  0,  1,\n",
       "        7, 12,  5])"
      ]
     },
     "execution_count": 61,
     "metadata": {},
     "output_type": "execute_result"
    }
   ],
   "source": [
    "newsgroups['target'][:20]"
   ]
  },
  {
   "cell_type": "code",
   "execution_count": null,
   "metadata": {},
   "outputs": [],
   "source": []
  }
 ],
 "metadata": {
  "kernelspec": {
   "display_name": "Python 3",
   "language": "python",
   "name": "python3"
  },
  "language_info": {
   "codemirror_mode": {
    "name": "ipython",
    "version": 3
   },
   "file_extension": ".py",
   "mimetype": "text/x-python",
   "name": "python",
   "nbconvert_exporter": "python",
   "pygments_lexer": "ipython3",
   "version": "3.8.6"
  }
 },
 "nbformat": 4,
 "nbformat_minor": 4
}
