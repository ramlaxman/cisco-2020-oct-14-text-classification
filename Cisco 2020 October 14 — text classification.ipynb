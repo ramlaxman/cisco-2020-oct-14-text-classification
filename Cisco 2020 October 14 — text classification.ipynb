{
 "cells": [
  {
   "cell_type": "code",
   "execution_count": 1,
   "metadata": {},
   "outputs": [],
   "source": [
    "# text classification\n",
    "\n",
    "# let's make predictions!\n",
    "\n",
    "\n",
    "# End goal:\n",
    "\n",
    "# model.predict(my_text)  # it'll tell us the classification of that text"
   ]
  },
  {
   "cell_type": "code",
   "execution_count": 2,
   "metadata": {},
   "outputs": [],
   "source": [
    "# two basic types of machine learning:\n",
    "# - supervised learning\n",
    "#     teaching the computer with examples\n",
    "#     asking it to make predictions based on examples\n",
    "\n",
    "#     - classification\n",
    "#     - regression\n",
    "\n",
    "# - unsupervised learning"
   ]
  },
  {
   "cell_type": "code",
   "execution_count": 3,
   "metadata": {},
   "outputs": [],
   "source": [
    "# within machine learning\n",
    "# within supervised learning\n",
    "# within classification\n",
    "\n",
    "# text classification"
   ]
  },
  {
   "cell_type": "code",
   "execution_count": 4,
   "metadata": {},
   "outputs": [],
   "source": [
    "# classify by source\n",
    "# classify by meaning\n",
    "# classify by age\n",
    "\n",
    "# spam filter"
   ]
  },
  {
   "cell_type": "code",
   "execution_count": 6,
   "metadata": {},
   "outputs": [
    {
     "name": "stdout",
     "output_type": "stream",
     "text": [
      "--2020-10-14 22:17:18--  http://files.lerner.co.il/text-analysis.zip\n",
      "Resolving files.lerner.co.il (files.lerner.co.il)... 138.197.26.202\n",
      "Connecting to files.lerner.co.il (files.lerner.co.il)|138.197.26.202|:80... connected.\n",
      "HTTP request sent, awaiting response... 200 OK\n",
      "Length: 3447 (3.4K) [application/zip]\n",
      "Saving to: ‘text-analysis.zip’\n",
      "\n",
      "text-analysis.zip   100%[===================>]   3.37K  8.25KB/s    in 0.4s    \n",
      "\n",
      "2020-10-14 22:17:19 (8.25 KB/s) - ‘text-analysis.zip’ saved [3447/3447]\n",
      "\n"
     ]
    }
   ],
   "source": [
    "!wget http://files.lerner.co.il/text-analysis.zip"
   ]
  },
  {
   "cell_type": "code",
   "execution_count": 7,
   "metadata": {},
   "outputs": [
    {
     "name": "stdout",
     "output_type": "stream",
     "text": [
      "Archive:  text-analysis.zip\r\n",
      "  inflating: spotify-support.csv     \r\n",
      "  inflating: apple-support.csv       \r\n"
     ]
    }
   ],
   "source": [
    "!unzip text-analysis.zip"
   ]
  },
  {
   "cell_type": "code",
   "execution_count": 8,
   "metadata": {},
   "outputs": [
    {
     "name": "stdout",
     "output_type": "stream",
     "text": [
      "tweet_id,author_id,inbound,created_at,text,response_tweet_id,in_response_to_tweet_id\r\n",
      "119237,105834,True,Wed Oct 11 06:55:44 +0000 2017,@AppleSupport causing the reply to be disregarded and the tapped notification under the keyboard is opened😡😡😡,119236,\r\n",
      "119248,AppleSupport,False,Wed Oct 11 13:38:29 +0000 2017,@105837 We can help. Which version of iOS are you on? You can find that in Settings &gt; General &gt; About. Reply in DM. https://t.co/GDrqU22YpT,,119249\r\n",
      "119249,105837,True,Wed Oct 11 07:37:27 +0000 2017,\"@105838 @AppleSupport Me too am suffering , hope the can find a solution\",119248,119250\r\n",
      "119250,105838,True,Wed Oct 11 05:33:17 +0000 2017,\"@AppleSupport hi #apple, I’ve a concern about the latest ios is too slow on #iphone6 and i am not happy with it. Any solution please?\",\"119249,119251\",\r\n",
      "119252,AppleSupport,False,Wed Oct 11 13:40:27 +0000 2017,@105839 Thanks for reaching out to us. We are always happy to help. Send us a DM so we can look into this together. https://t.co/GDrqU22YpT,,119253\r\n",
      "119262,AppleSupport,False,Wed Oct 11 13:30:39 +0000 2017,@105841 We'd love to help! Please DM us and let us know any steps you've tried since experiencing these behaviors. https://t.co/GDrqU22YpT,,119263\r\n",
      "119263,105841,True,Wed Oct 11 06:29:07 +0000 2017,\"@AppleSupport after the 11.0.2 my phone just sucks most of the apps are broken, wifi disconnects frequently #apple #ios1102 #painfulupdate\",119262,\r\n",
      "119267,AppleSupport,False,Wed Oct 11 13:30:38 +0000 2017,\"@105843 Battery life is important, and we're here for you. DM us the iOS version your iPhone is running. We'll go from there. https://t.co/GDrqU22YpT\",,119268\r\n",
      "119269,AppleSupport,False,Wed Oct 11 13:30:12 +0000 2017,@105844 Thanks for reaching out to us. We are always happy to help. Send us a DM so we can look into this together. https://t.co/GDrqU22YpT,,119270\r\n"
     ]
    }
   ],
   "source": [
    "!head apple-support.csv"
   ]
  },
  {
   "cell_type": "code",
   "execution_count": null,
   "metadata": {},
   "outputs": [],
   "source": []
  },
  {
   "cell_type": "code",
   "execution_count": 5,
   "metadata": {},
   "outputs": [],
   "source": [
    "# (1) get some input text, for which we know the classification\n",
    "# (2) clean up the text / put it into a format the model could use\n",
    "# (3) part of that is: defining a vocabulary and creating a term matrix\n",
    "# (4) create the model\n",
    "# (5) split our data into training and testing data\n",
    "# (6) make some predictions\n",
    "# (7) check -- how good are our predictions?"
   ]
  },
  {
   "cell_type": "markdown",
   "metadata": {},
   "source": [
    "# part 1: Get the text into data frames"
   ]
  },
  {
   "cell_type": "code",
   "execution_count": 9,
   "metadata": {},
   "outputs": [
    {
     "name": "stdout",
     "output_type": "stream",
     "text": [
      "Populating the interactive namespace from numpy and matplotlib\n"
     ]
    }
   ],
   "source": [
    "%pylab inline\n",
    "import pandas as pd\n",
    "from pandas import Series, DataFrame"
   ]
  },
  {
   "cell_type": "code",
   "execution_count": 11,
   "metadata": {},
   "outputs": [],
   "source": [
    "apple_df = pd.read_csv('apple-support.csv', usecols=['text'])\n",
    "spotify_df = pd.read_csv('spotify-support.csv', usecols=['text'])"
   ]
  },
  {
   "cell_type": "code",
   "execution_count": 13,
   "metadata": {},
   "outputs": [
    {
     "data": {
      "text/plain": [
       "(24, 1)"
      ]
     },
     "execution_count": 13,
     "metadata": {},
     "output_type": "execute_result"
    }
   ],
   "source": [
    "apple_df.shape"
   ]
  },
  {
   "cell_type": "code",
   "execution_count": 14,
   "metadata": {},
   "outputs": [
    {
     "data": {
      "text/plain": [
       "(16, 1)"
      ]
     },
     "execution_count": 14,
     "metadata": {},
     "output_type": "execute_result"
    }
   ],
   "source": [
    "spotify_df.shape"
   ]
  },
  {
   "cell_type": "code",
   "execution_count": 15,
   "metadata": {},
   "outputs": [],
   "source": [
    "# add a column indicating which source the tweets are from\n",
    "apple_df['target'] = 0\n",
    "spotify_df['target'] = 1"
   ]
  },
  {
   "cell_type": "code",
   "execution_count": 16,
   "metadata": {},
   "outputs": [
    {
     "data": {
      "text/html": [
       "<div>\n",
       "<style scoped>\n",
       "    .dataframe tbody tr th:only-of-type {\n",
       "        vertical-align: middle;\n",
       "    }\n",
       "\n",
       "    .dataframe tbody tr th {\n",
       "        vertical-align: top;\n",
       "    }\n",
       "\n",
       "    .dataframe thead th {\n",
       "        text-align: right;\n",
       "    }\n",
       "</style>\n",
       "<table border=\"1\" class=\"dataframe\">\n",
       "  <thead>\n",
       "    <tr style=\"text-align: right;\">\n",
       "      <th></th>\n",
       "      <th>text</th>\n",
       "      <th>target</th>\n",
       "    </tr>\n",
       "  </thead>\n",
       "  <tbody>\n",
       "    <tr>\n",
       "      <th>0</th>\n",
       "      <td>@AppleSupport causing the reply to be disregar...</td>\n",
       "      <td>0</td>\n",
       "    </tr>\n",
       "    <tr>\n",
       "      <th>1</th>\n",
       "      <td>@105837 We can help. Which version of iOS are ...</td>\n",
       "      <td>0</td>\n",
       "    </tr>\n",
       "    <tr>\n",
       "      <th>2</th>\n",
       "      <td>@105838 @AppleSupport Me too am suffering , ho...</td>\n",
       "      <td>0</td>\n",
       "    </tr>\n",
       "    <tr>\n",
       "      <th>3</th>\n",
       "      <td>@AppleSupport hi #apple, I’ve a concern about ...</td>\n",
       "      <td>0</td>\n",
       "    </tr>\n",
       "    <tr>\n",
       "      <th>4</th>\n",
       "      <td>@105839 Thanks for reaching out to us. We are ...</td>\n",
       "      <td>0</td>\n",
       "    </tr>\n",
       "  </tbody>\n",
       "</table>\n",
       "</div>"
      ],
      "text/plain": [
       "                                                text  target\n",
       "0  @AppleSupport causing the reply to be disregar...       0\n",
       "1  @105837 We can help. Which version of iOS are ...       0\n",
       "2  @105838 @AppleSupport Me too am suffering , ho...       0\n",
       "3  @AppleSupport hi #apple, I’ve a concern about ...       0\n",
       "4  @105839 Thanks for reaching out to us. We are ...       0"
      ]
     },
     "execution_count": 16,
     "metadata": {},
     "output_type": "execute_result"
    }
   ],
   "source": [
    "df = pd.concat([apple_df, spotify_df])\n",
    "df.head()"
   ]
  },
  {
   "cell_type": "code",
   "execution_count": 17,
   "metadata": {},
   "outputs": [
    {
     "data": {
      "text/plain": [
       "(40, 2)"
      ]
     },
     "execution_count": 17,
     "metadata": {},
     "output_type": "execute_result"
    }
   ],
   "source": [
    "df.shape"
   ]
  },
  {
   "cell_type": "code",
   "execution_count": 18,
   "metadata": {},
   "outputs": [],
   "source": [
    "apple_df = pd.read_csv('apple-support.csv', usecols=['text'])\n",
    "spotify_df = pd.read_csv('spotify-support.csv', usecols=['text'])\n",
    "\n",
    "apple_df['target'] = 0\n",
    "spotify_df['target'] = 1\n",
    "\n",
    "df = pd.concat([apple_df, spotify_df])"
   ]
  },
  {
   "cell_type": "code",
   "execution_count": 19,
   "metadata": {},
   "outputs": [
    {
     "data": {
      "text/html": [
       "<div>\n",
       "<style scoped>\n",
       "    .dataframe tbody tr th:only-of-type {\n",
       "        vertical-align: middle;\n",
       "    }\n",
       "\n",
       "    .dataframe tbody tr th {\n",
       "        vertical-align: top;\n",
       "    }\n",
       "\n",
       "    .dataframe thead th {\n",
       "        text-align: right;\n",
       "    }\n",
       "</style>\n",
       "<table border=\"1\" class=\"dataframe\">\n",
       "  <thead>\n",
       "    <tr style=\"text-align: right;\">\n",
       "      <th></th>\n",
       "      <th>text</th>\n",
       "      <th>target</th>\n",
       "    </tr>\n",
       "  </thead>\n",
       "  <tbody>\n",
       "    <tr>\n",
       "      <th>0</th>\n",
       "      <td>@AppleSupport causing the reply to be disregar...</td>\n",
       "      <td>0</td>\n",
       "    </tr>\n",
       "    <tr>\n",
       "      <th>1</th>\n",
       "      <td>@105837 We can help. Which version of iOS are ...</td>\n",
       "      <td>0</td>\n",
       "    </tr>\n",
       "    <tr>\n",
       "      <th>2</th>\n",
       "      <td>@105838 @AppleSupport Me too am suffering , ho...</td>\n",
       "      <td>0</td>\n",
       "    </tr>\n",
       "    <tr>\n",
       "      <th>3</th>\n",
       "      <td>@AppleSupport hi #apple, I’ve a concern about ...</td>\n",
       "      <td>0</td>\n",
       "    </tr>\n",
       "    <tr>\n",
       "      <th>4</th>\n",
       "      <td>@105839 Thanks for reaching out to us. We are ...</td>\n",
       "      <td>0</td>\n",
       "    </tr>\n",
       "    <tr>\n",
       "      <th>5</th>\n",
       "      <td>@105841 We'd love to help! Please DM us and le...</td>\n",
       "      <td>0</td>\n",
       "    </tr>\n",
       "    <tr>\n",
       "      <th>6</th>\n",
       "      <td>@AppleSupport after the 11.0.2 my phone just s...</td>\n",
       "      <td>0</td>\n",
       "    </tr>\n",
       "    <tr>\n",
       "      <th>7</th>\n",
       "      <td>@105843 Battery life is important, and we're h...</td>\n",
       "      <td>0</td>\n",
       "    </tr>\n",
       "    <tr>\n",
       "      <th>8</th>\n",
       "      <td>@105844 Thanks for reaching out to us. We are ...</td>\n",
       "      <td>0</td>\n",
       "    </tr>\n",
       "    <tr>\n",
       "      <th>9</th>\n",
       "      <td>@AppleSupport Can you get my iPhone 7plus back...</td>\n",
       "      <td>0</td>\n",
       "    </tr>\n",
       "    <tr>\n",
       "      <th>10</th>\n",
       "      <td>@105844 We'd be happy to help. Send us a DM an...</td>\n",
       "      <td>0</td>\n",
       "    </tr>\n",
       "    <tr>\n",
       "      <th>11</th>\n",
       "      <td>@105846 We'd like to help. What happens when y...</td>\n",
       "      <td>0</td>\n",
       "    </tr>\n",
       "    <tr>\n",
       "      <th>12</th>\n",
       "      <td>@105848 Let's take a look. What is the exact i...</td>\n",
       "      <td>0</td>\n",
       "    </tr>\n",
       "    <tr>\n",
       "      <th>13</th>\n",
       "      <td>@AppleSupport Latest version 😡😡 I have read th...</td>\n",
       "      <td>0</td>\n",
       "    </tr>\n",
       "    <tr>\n",
       "      <th>14</th>\n",
       "      <td>@AppleSupport Super help - problem solved 😀 on...</td>\n",
       "      <td>0</td>\n",
       "    </tr>\n",
       "    <tr>\n",
       "      <th>15</th>\n",
       "      <td>@AppleSupport #ios11update - is still killing ...</td>\n",
       "      <td>0</td>\n",
       "    </tr>\n",
       "    <tr>\n",
       "      <th>16</th>\n",
       "      <td>@105849 Thanks for reaching out to us. We are ...</td>\n",
       "      <td>0</td>\n",
       "    </tr>\n",
       "    <tr>\n",
       "      <th>17</th>\n",
       "      <td>@105851 We'd like to provide some assistance w...</td>\n",
       "      <td>0</td>\n",
       "    </tr>\n",
       "    <tr>\n",
       "      <th>18</th>\n",
       "      <td>@AppleSupport I need a new code for my I-store...</td>\n",
       "      <td>0</td>\n",
       "    </tr>\n",
       "    <tr>\n",
       "      <th>19</th>\n",
       "      <td>@105852 Are you experiencing an issue with you...</td>\n",
       "      <td>0</td>\n",
       "    </tr>\n",
       "    <tr>\n",
       "      <th>20</th>\n",
       "      <td>@76099 @AppleSupport fix this update. It’s hor...</td>\n",
       "      <td>0</td>\n",
       "    </tr>\n",
       "    <tr>\n",
       "      <th>21</th>\n",
       "      <td>@105857 Is there a particular app that seems t...</td>\n",
       "      <td>0</td>\n",
       "    </tr>\n",
       "    <tr>\n",
       "      <th>22</th>\n",
       "      <td>@AppleSupport I have the latest version iOS. I...</td>\n",
       "      <td>0</td>\n",
       "    </tr>\n",
       "    <tr>\n",
       "      <th>23</th>\n",
       "      <td>@105857 We'd like to help if we can. When did ...</td>\n",
       "      <td>0</td>\n",
       "    </tr>\n",
       "    <tr>\n",
       "      <th>0</th>\n",
       "      <td>@105840 Hi there! What device is this happenin...</td>\n",
       "      <td>1</td>\n",
       "    </tr>\n",
       "    <tr>\n",
       "      <th>1</th>\n",
       "      <td>@SpotifyCares Thanks! Version 8.4.22.857 armv7...</td>\n",
       "      <td>1</td>\n",
       "    </tr>\n",
       "    <tr>\n",
       "      <th>2</th>\n",
       "      <td>@105840 Thanks. The distance could possibly af...</td>\n",
       "      <td>1</td>\n",
       "    </tr>\n",
       "    <tr>\n",
       "      <th>3</th>\n",
       "      <td>@SpotifyCares No, but I've moved speaker to ab...</td>\n",
       "      <td>1</td>\n",
       "    </tr>\n",
       "    <tr>\n",
       "      <th>4</th>\n",
       "      <td>@105840 That's great to hear. If anything come...</td>\n",
       "      <td>1</td>\n",
       "    </tr>\n",
       "    <tr>\n",
       "      <th>5</th>\n",
       "      <td>@SpotifyCares Brilliant thanks 😊</td>\n",
       "      <td>1</td>\n",
       "    </tr>\n",
       "    <tr>\n",
       "      <th>6</th>\n",
       "      <td>@105840 You're welcome! If there's anything el...</td>\n",
       "      <td>1</td>\n",
       "    </tr>\n",
       "    <tr>\n",
       "      <th>7</th>\n",
       "      <td>@76495 @91226 Please help! Spotify Premium ski...</td>\n",
       "      <td>1</td>\n",
       "    </tr>\n",
       "    <tr>\n",
       "      <th>8</th>\n",
       "      <td>@105847 Hi Harry! Help's here. Can you check i...</td>\n",
       "      <td>1</td>\n",
       "    </tr>\n",
       "    <tr>\n",
       "      <th>9</th>\n",
       "      <td>@SpotifyCares seems to be working at this stag...</td>\n",
       "      <td>1</td>\n",
       "    </tr>\n",
       "    <tr>\n",
       "      <th>10</th>\n",
       "      <td>@105847 Sure thing. We'll keep an eye out for ...</td>\n",
       "      <td>1</td>\n",
       "    </tr>\n",
       "    <tr>\n",
       "      <th>11</th>\n",
       "      <td>@SpotifyCares problem has come back again toda...</td>\n",
       "      <td>1</td>\n",
       "    </tr>\n",
       "    <tr>\n",
       "      <th>12</th>\n",
       "      <td>@105847 Thanks for giving us a nudge about thi...</td>\n",
       "      <td>1</td>\n",
       "    </tr>\n",
       "    <tr>\n",
       "      <th>13</th>\n",
       "      <td>@SpotifyCares It's on a Macbook Air (early 201...</td>\n",
       "      <td>1</td>\n",
       "    </tr>\n",
       "    <tr>\n",
       "      <th>14</th>\n",
       "      <td>@105847 Got it. Can you try the steps here for...</td>\n",
       "      <td>1</td>\n",
       "    </tr>\n",
       "    <tr>\n",
       "      <th>15</th>\n",
       "      <td>@SpotifyCares i've been having issues with pla...</td>\n",
       "      <td>1</td>\n",
       "    </tr>\n",
       "  </tbody>\n",
       "</table>\n",
       "</div>"
      ],
      "text/plain": [
       "                                                 text  target\n",
       "0   @AppleSupport causing the reply to be disregar...       0\n",
       "1   @105837 We can help. Which version of iOS are ...       0\n",
       "2   @105838 @AppleSupport Me too am suffering , ho...       0\n",
       "3   @AppleSupport hi #apple, I’ve a concern about ...       0\n",
       "4   @105839 Thanks for reaching out to us. We are ...       0\n",
       "5   @105841 We'd love to help! Please DM us and le...       0\n",
       "6   @AppleSupport after the 11.0.2 my phone just s...       0\n",
       "7   @105843 Battery life is important, and we're h...       0\n",
       "8   @105844 Thanks for reaching out to us. We are ...       0\n",
       "9   @AppleSupport Can you get my iPhone 7plus back...       0\n",
       "10  @105844 We'd be happy to help. Send us a DM an...       0\n",
       "11  @105846 We'd like to help. What happens when y...       0\n",
       "12  @105848 Let's take a look. What is the exact i...       0\n",
       "13  @AppleSupport Latest version 😡😡 I have read th...       0\n",
       "14  @AppleSupport Super help - problem solved 😀 on...       0\n",
       "15  @AppleSupport #ios11update - is still killing ...       0\n",
       "16  @105849 Thanks for reaching out to us. We are ...       0\n",
       "17  @105851 We'd like to provide some assistance w...       0\n",
       "18  @AppleSupport I need a new code for my I-store...       0\n",
       "19  @105852 Are you experiencing an issue with you...       0\n",
       "20  @76099 @AppleSupport fix this update. It’s hor...       0\n",
       "21  @105857 Is there a particular app that seems t...       0\n",
       "22  @AppleSupport I have the latest version iOS. I...       0\n",
       "23  @105857 We'd like to help if we can. When did ...       0\n",
       "0   @105840 Hi there! What device is this happenin...       1\n",
       "1   @SpotifyCares Thanks! Version 8.4.22.857 armv7...       1\n",
       "2   @105840 Thanks. The distance could possibly af...       1\n",
       "3   @SpotifyCares No, but I've moved speaker to ab...       1\n",
       "4   @105840 That's great to hear. If anything come...       1\n",
       "5                    @SpotifyCares Brilliant thanks 😊       1\n",
       "6   @105840 You're welcome! If there's anything el...       1\n",
       "7   @76495 @91226 Please help! Spotify Premium ski...       1\n",
       "8   @105847 Hi Harry! Help's here. Can you check i...       1\n",
       "9   @SpotifyCares seems to be working at this stag...       1\n",
       "10  @105847 Sure thing. We'll keep an eye out for ...       1\n",
       "11  @SpotifyCares problem has come back again toda...       1\n",
       "12  @105847 Thanks for giving us a nudge about thi...       1\n",
       "13  @SpotifyCares It's on a Macbook Air (early 201...       1\n",
       "14  @105847 Got it. Can you try the steps here for...       1\n",
       "15  @SpotifyCares i've been having issues with pla...       1"
      ]
     },
     "execution_count": 19,
     "metadata": {},
     "output_type": "execute_result"
    }
   ],
   "source": [
    "df"
   ]
  },
  {
   "cell_type": "code",
   "execution_count": 23,
   "metadata": {},
   "outputs": [
    {
     "data": {
      "text/plain": [
       "'@AppleSupport causing the reply to be disregarded and the tapped notification under the keyboard is opened😡😡😡'"
      ]
     },
     "execution_count": 23,
     "metadata": {},
     "output_type": "execute_result"
    }
   ],
   "source": [
    "df.iloc[0]['text']"
   ]
  },
  {
   "cell_type": "code",
   "execution_count": 24,
   "metadata": {},
   "outputs": [],
   "source": [
    "# text #1 = have a nice day\n",
    "# text #2 = what day is today?\n",
    "\n",
    "# vocabulary\n",
    "\n",
    "# document term matrix (DTM)\n",
    "\n",
    "# have nice day what today\n",
    "# 1     1   1   0     0\n",
    "# 0     0   1   1     1\n",
    "\n",
    "# we're going to use the \"count vectorizer\" to create a vocabulary\n",
    "# and a DTM\n",
    "\n",
    "from sklearn.feature_extraction.text import CountVectorizer\n",
    "cv = CountVectorizer()\n",
    "\n"
   ]
  },
  {
   "cell_type": "code",
   "execution_count": 25,
   "metadata": {},
   "outputs": [
    {
     "data": {
      "text/plain": [
       "CountVectorizer()"
      ]
     },
     "execution_count": 25,
     "metadata": {},
     "output_type": "execute_result"
    }
   ],
   "source": [
    "# have the vectorizer establish the vocabulary from our texts\n",
    "cv.fit(df['text'])"
   ]
  },
  {
   "cell_type": "code",
   "execution_count": 26,
   "metadata": {
    "collapsed": true
   },
   "outputs": [
    {
     "data": {
      "text/plain": [
       "['10',\n",
       " '105837',\n",
       " '105838',\n",
       " '105839',\n",
       " '105840',\n",
       " '105841',\n",
       " '105843',\n",
       " '105844',\n",
       " '105846',\n",
       " '105847',\n",
       " '105848',\n",
       " '105849',\n",
       " '105851',\n",
       " '105852',\n",
       " '105857',\n",
       " '11',\n",
       " '12',\n",
       " '2014',\n",
       " '2016',\n",
       " '22',\n",
       " '320',\n",
       " '65',\n",
       " '76099',\n",
       " '76495',\n",
       " '7plus',\n",
       " '857',\n",
       " '91226',\n",
       " 'about',\n",
       " 'affect',\n",
       " 'after',\n",
       " 'again',\n",
       " 'air',\n",
       " 'all',\n",
       " 'also',\n",
       " 'always',\n",
       " 'am',\n",
       " 'amp',\n",
       " 'an',\n",
       " 'and',\n",
       " 'android',\n",
       " 'anker',\n",
       " 'any',\n",
       " 'anything',\n",
       " 'app',\n",
       " 'apple',\n",
       " 'applesupport',\n",
       " 'apps',\n",
       " 'are',\n",
       " 'armv7',\n",
       " 'assistance',\n",
       " 'at',\n",
       " 'away',\n",
       " 'ay',\n",
       " 'back',\n",
       " 'battery',\n",
       " 'be',\n",
       " 'been',\n",
       " 'before',\n",
       " 'behaviors',\n",
       " 'bluetooth',\n",
       " 'brilliant',\n",
       " 'broken',\n",
       " 'bug',\n",
       " 'but',\n",
       " 'can',\n",
       " 'carry',\n",
       " 'cause',\n",
       " 'causing',\n",
       " 'check',\n",
       " 'cheers',\n",
       " 'close',\n",
       " 'co',\n",
       " 'code',\n",
       " 'come',\n",
       " 'comes',\n",
       " 'concern',\n",
       " 'constantly',\n",
       " 'could',\n",
       " 'cp',\n",
       " 'crash',\n",
       " 'crossed',\n",
       " 'currently',\n",
       " 'days',\n",
       " 'device',\n",
       " 'did',\n",
       " 'difference',\n",
       " 'disconnects',\n",
       " 'disgrace',\n",
       " 'disregarded',\n",
       " 'distance',\n",
       " 'dm',\n",
       " 'does',\n",
       " 'dropped',\n",
       " 'early',\n",
       " 'else',\n",
       " 'eqisdmwzat',\n",
       " 'everything',\n",
       " 'exact',\n",
       " 'experiencing',\n",
       " 'eye',\n",
       " 'find',\n",
       " 'fingers',\n",
       " 'fix',\n",
       " 'for',\n",
       " 'frequently',\n",
       " 'from',\n",
       " 'gac7a8e02',\n",
       " 'galaxy',\n",
       " 'gdrqu22ypt',\n",
       " 'general',\n",
       " 'get',\n",
       " 'give',\n",
       " 'giving',\n",
       " 'go',\n",
       " 'going',\n",
       " 'got',\n",
       " 'great',\n",
       " 'gt',\n",
       " 'half',\n",
       " 'happening',\n",
       " 'happens',\n",
       " 'happy',\n",
       " 'harry',\n",
       " 'has',\n",
       " 'have',\n",
       " 'haven',\n",
       " 'having',\n",
       " 'hear',\n",
       " 'help',\n",
       " 'helping',\n",
       " 'here',\n",
       " 'hi',\n",
       " 'high',\n",
       " 'hope',\n",
       " 'horrible',\n",
       " 'hours',\n",
       " 'how',\n",
       " 'https',\n",
       " 'if',\n",
       " 'immediately',\n",
       " 'important',\n",
       " 'in',\n",
       " 'into',\n",
       " 'ios',\n",
       " 'ios1102',\n",
       " 'ios11update',\n",
       " 'iphone',\n",
       " 'iphone6',\n",
       " 'is',\n",
       " 'issue',\n",
       " 'issues',\n",
       " 'it',\n",
       " 'join',\n",
       " 'just',\n",
       " 'keep',\n",
       " 'keyboard',\n",
       " 'killing',\n",
       " 'kind',\n",
       " 'know',\n",
       " 'latest',\n",
       " 'let',\n",
       " 'life',\n",
       " 'like',\n",
       " 'listen',\n",
       " 'll',\n",
       " 'location',\n",
       " 'logging',\n",
       " 'look',\n",
       " 'love',\n",
       " 'macbook',\n",
       " 'make',\n",
       " 'makes',\n",
       " 'many',\n",
       " 'matter',\n",
       " 'me',\n",
       " 'metre',\n",
       " 'metres',\n",
       " 'midway',\n",
       " 'mo',\n",
       " 'model',\n",
       " 'months',\n",
       " 'more',\n",
       " 'most',\n",
       " 'moved',\n",
       " 'msg',\n",
       " 'mu',\n",
       " 'music',\n",
       " 'my',\n",
       " 'need',\n",
       " 'new',\n",
       " 'no',\n",
       " 'not',\n",
       " 'noticing',\n",
       " 'notification',\n",
       " 'now',\n",
       " 'nudge',\n",
       " 'of',\n",
       " 'off',\n",
       " 'old',\n",
       " 'on',\n",
       " 'once',\n",
       " 'opened',\n",
       " 'operating',\n",
       " 'or',\n",
       " 'others',\n",
       " 'out',\n",
       " 'page',\n",
       " 'painfulupdate',\n",
       " 'particular',\n",
       " 'pause',\n",
       " 'phone',\n",
       " 'playback',\n",
       " 'plays',\n",
       " 'please',\n",
       " 'possibly',\n",
       " 'posted',\n",
       " 'premium',\n",
       " 'problem',\n",
       " 'provide',\n",
       " 're',\n",
       " 'reaching',\n",
       " 'read',\n",
       " 'recd',\n",
       " 'reopen',\n",
       " 'reply',\n",
       " 'restart',\n",
       " 'restarting',\n",
       " 'running',\n",
       " 'runs',\n",
       " 'samsung',\n",
       " 'see',\n",
       " 'seems',\n",
       " 'send',\n",
       " 'sent',\n",
       " 'settings',\n",
       " 'should',\n",
       " 'shout',\n",
       " 'sierra',\n",
       " 'since',\n",
       " 'skipping',\n",
       " 'slow',\n",
       " 'sm',\n",
       " 'so',\n",
       " 'solution',\n",
       " 'solved',\n",
       " 'some',\n",
       " 'songs',\n",
       " 'speaker',\n",
       " 'specific',\n",
       " 'spotify',\n",
       " 'spotifycares',\n",
       " 'stage',\n",
       " 'start',\n",
       " 'started',\n",
       " 'steps',\n",
       " 'still',\n",
       " 'stopping',\n",
       " 'store',\n",
       " 'sucks',\n",
       " 'suffering',\n",
       " 'super',\n",
       " 'sure',\n",
       " 'svs',\n",
       " 'system',\n",
       " 't280',\n",
       " 'tab',\n",
       " 'tablet',\n",
       " 'take',\n",
       " 'tapped',\n",
       " 'tell',\n",
       " 'than',\n",
       " 'thanks',\n",
       " 'that',\n",
       " 'the',\n",
       " 'there',\n",
       " 'these',\n",
       " 'they',\n",
       " 'thing',\n",
       " 'this',\n",
       " 'through',\n",
       " 'time',\n",
       " 'to',\n",
       " 'today',\n",
       " 'together',\n",
       " 'too',\n",
       " 'tried',\n",
       " 'try',\n",
       " 'turned',\n",
       " 'typing',\n",
       " 'under',\n",
       " 'unless',\n",
       " 'up',\n",
       " 'update',\n",
       " 'updated',\n",
       " 'us',\n",
       " 'use',\n",
       " 'used',\n",
       " 'using',\n",
       " 've',\n",
       " 'version',\n",
       " 'versions',\n",
       " 'virtually',\n",
       " 'was',\n",
       " 'we',\n",
       " 'welcome',\n",
       " 'what',\n",
       " 'whatsapp',\n",
       " 'when',\n",
       " 'which',\n",
       " 'wifi',\n",
       " 'will',\n",
       " 'with',\n",
       " 'within',\n",
       " 'won',\n",
       " 'working',\n",
       " 'you',\n",
       " 'your']"
      ]
     },
     "execution_count": 26,
     "metadata": {},
     "output_type": "execute_result"
    }
   ],
   "source": [
    "cv.get_feature_names()"
   ]
  },
  {
   "cell_type": "code",
   "execution_count": 27,
   "metadata": {},
   "outputs": [],
   "source": [
    "# create a DTM from our texts, using the vocabulary\n",
    "# we'll call this DTM X, because it'll be our input for model predictions\n",
    "\n",
    "X = cv.transform(df['text'])"
   ]
  },
  {
   "cell_type": "code",
   "execution_count": 28,
   "metadata": {},
   "outputs": [
    {
     "data": {
      "text/plain": [
       "<40x317 sparse matrix of type '<class 'numpy.int64'>'\n",
       "\twith 787 stored elements in Compressed Sparse Row format>"
      ]
     },
     "execution_count": 28,
     "metadata": {},
     "output_type": "execute_result"
    }
   ],
   "source": [
    "X"
   ]
  },
  {
   "cell_type": "code",
   "execution_count": 29,
   "metadata": {},
   "outputs": [],
   "source": [
    "y = df['target']"
   ]
  },
  {
   "cell_type": "code",
   "execution_count": 30,
   "metadata": {},
   "outputs": [],
   "source": [
    "# we're going to use the Multinomial Naive Bayes model\n",
    "from sklearn.naive_bayes import MultinomialNB\n",
    "model = MultinomialNB()   "
   ]
  },
  {
   "cell_type": "code",
   "execution_count": 31,
   "metadata": {},
   "outputs": [],
   "source": [
    "# classic way to teach a model... give it all X and all y\n",
    "model.fit(X, y)\n",
    "\n",
    "# now that we have trained our model, let's make some predictions!\n",
    "y_pred = model.predict(X)"
   ]
  },
  {
   "cell_type": "code",
   "execution_count": 32,
   "metadata": {},
   "outputs": [
    {
     "data": {
      "text/plain": [
       "1.0"
      ]
     },
     "execution_count": 32,
     "metadata": {},
     "output_type": "execute_result"
    }
   ],
   "source": [
    "from sklearn.metrics import accuracy_score\n",
    "accuracy_score(y_pred, y)"
   ]
  },
  {
   "cell_type": "code",
   "execution_count": 33,
   "metadata": {},
   "outputs": [
    {
     "data": {
      "text/plain": [
       "array([0, 0, 0, 0, 0, 0, 0, 0, 0, 0, 0, 0, 0, 0, 0, 0, 0, 0, 0, 0, 0, 0,\n",
       "       0, 0, 1, 1, 1, 1, 1, 1, 1, 1, 1, 1, 1, 1, 1, 1, 1, 1])"
      ]
     },
     "execution_count": 33,
     "metadata": {},
     "output_type": "execute_result"
    }
   ],
   "source": [
    "y_pred"
   ]
  },
  {
   "cell_type": "code",
   "execution_count": 36,
   "metadata": {},
   "outputs": [
    {
     "data": {
      "text/plain": [
       "array([0, 0, 0, 0, 0, 0, 0, 0, 0, 0, 0, 0, 0, 0, 0, 0, 0, 0, 0, 0, 0, 0,\n",
       "       0, 0, 1, 1, 1, 1, 1, 1, 1, 1, 1, 1, 1, 1, 1, 1, 1, 1])"
      ]
     },
     "execution_count": 36,
     "metadata": {},
     "output_type": "execute_result"
    }
   ],
   "source": [
    "y.values"
   ]
  },
  {
   "cell_type": "code",
   "execution_count": 38,
   "metadata": {},
   "outputs": [
    {
     "data": {
      "text/plain": [
       "1.0"
      ]
     },
     "execution_count": 38,
     "metadata": {},
     "output_type": "execute_result"
    }
   ],
   "source": [
    "from sklearn.feature_extraction.text import CountVectorizer\n",
    "from sklearn.metrics import accuracy_score\n",
    "from sklearn.naive_bayes import MultinomialNB\n",
    "\n",
    "cv = CountVectorizer()\n",
    "\n",
    "cv.fit(df['text'])            # teach CV the vocab based on df['text']\n",
    "X = cv.transform(df['text'])  # create a DTM (X) based on df['text']\n",
    "y = df['target']              # create a y based on df['target']\n",
    "\n",
    "model = MultinomialNB()       # create a new model\n",
    "model.fit(X, y)               # train the model with all of our data\n",
    "\n",
    "y_pred = model.predict(X)     # make a prediction\n",
    "accuracy_score(y_pred, y)     # was the prediction any good?"
   ]
  },
  {
   "cell_type": "code",
   "execution_count": 43,
   "metadata": {},
   "outputs": [
    {
     "data": {
      "text/plain": [
       "1.0"
      ]
     },
     "execution_count": 43,
     "metadata": {},
     "output_type": "execute_result"
    }
   ],
   "source": [
    "# we'll break up our X and y into training and testing data\n",
    "# we'll train (fit) with the training data\n",
    "# we'll test (predict) with the testing data\n",
    "\n",
    "# this checks if our model can correctly classify things it hasn't seen before\n",
    "\n",
    "from sklearn.feature_extraction.text import CountVectorizer\n",
    "from sklearn.metrics import accuracy_score\n",
    "from sklearn.naive_bayes import MultinomialNB\n",
    "from sklearn.model_selection import train_test_split\n",
    "\n",
    "cv = CountVectorizer()\n",
    "\n",
    "cv.fit(df['text'])            # teach CV the vocab based on df['text']\n",
    "X = cv.transform(df['text'])  # create a DTM (X) based on df['text']\n",
    "y = df['target']              # create a y based on df['target']\n",
    "\n",
    "X_train, X_test, y_train, y_test = train_test_split(X, y)\n",
    "\n",
    "model = MultinomialNB()       # create a new model\n",
    "model.fit(X_train, y_train)   # train the model with all of our data\n",
    "\n",
    "y_pred = model.predict(X_test)     # make a prediction\n",
    "accuracy_score(y_pred, y_test)     # was the prediction any good?"
   ]
  },
  {
   "cell_type": "code",
   "execution_count": null,
   "metadata": {},
   "outputs": [],
   "source": [
    "# let's try it with some data of our own!\n",
    "\n",
    "test_text = ['my iphone is not working',\n",
    "            'my spotify playlist is the best',\n",
    "            'my playlist is not coming up',\n",
    "            'my macbook is having trouble']\n",
    "\n"
   ]
  }
 ],
 "metadata": {
  "kernelspec": {
   "display_name": "Python 3",
   "language": "python",
   "name": "python3"
  },
  "language_info": {
   "codemirror_mode": {
    "name": "ipython",
    "version": 3
   },
   "file_extension": ".py",
   "mimetype": "text/x-python",
   "name": "python",
   "nbconvert_exporter": "python",
   "pygments_lexer": "ipython3",
   "version": "3.8.6"
  }
 },
 "nbformat": 4,
 "nbformat_minor": 4
}
