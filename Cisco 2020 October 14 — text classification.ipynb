{
 "cells": [
  {
   "cell_type": "code",
   "execution_count": 1,
   "metadata": {},
   "outputs": [],
   "source": [
    "# text classification\n",
    "\n",
    "# let's make predictions!\n",
    "\n",
    "\n",
    "# End goal:\n",
    "\n",
    "# model.predict(my_text)  # it'll tell us the classification of that text"
   ]
  },
  {
   "cell_type": "code",
   "execution_count": 2,
   "metadata": {},
   "outputs": [],
   "source": [
    "# two basic types of machine learning:\n",
    "# - supervised learning\n",
    "#     teaching the computer with examples\n",
    "#     asking it to make predictions based on examples\n",
    "\n",
    "#     - classification\n",
    "#     - regression\n",
    "\n",
    "# - unsupervised learning"
   ]
  },
  {
   "cell_type": "code",
   "execution_count": 3,
   "metadata": {},
   "outputs": [],
   "source": [
    "# within machine learning\n",
    "# within supervised learning\n",
    "# within classification\n",
    "\n",
    "# text classification"
   ]
  },
  {
   "cell_type": "code",
   "execution_count": 4,
   "metadata": {},
   "outputs": [],
   "source": [
    "# classify by source\n",
    "# classify by meaning\n",
    "# classify by age\n",
    "\n",
    "# spam filter"
   ]
  },
  {
   "cell_type": "code",
   "execution_count": null,
   "metadata": {},
   "outputs": [],
   "source": [
    "# (1) get some input text, for which we know the classification\n",
    "# (2) clean up the text / put it into a format the model could use\n",
    "# (3) part of that is: defining a vocabulary and creating a term matrix\n",
    "# (4) create the model\n",
    "# (5) split our data into training and testing data\n",
    "# (6) make some predictions\n",
    "# (7) check -- how good are our predict"
   ]
  }
 ],
 "metadata": {
  "kernelspec": {
   "display_name": "Python 3",
   "language": "python",
   "name": "python3"
  },
  "language_info": {
   "codemirror_mode": {
    "name": "ipython",
    "version": 3
   },
   "file_extension": ".py",
   "mimetype": "text/x-python",
   "name": "python",
   "nbconvert_exporter": "python",
   "pygments_lexer": "ipython3",
   "version": "3.8.6"
  }
 },
 "nbformat": 4,
 "nbformat_minor": 4
}
